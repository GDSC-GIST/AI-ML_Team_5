{
 "cells": [
  {
   "cell_type": "markdown",
   "id": "3d8d5b23",
   "metadata": {},
   "source": [
    "모델 아이디어 https://lsjsj92.tistory.com/444"
   ]
  },
  {
   "cell_type": "markdown",
   "id": "0baa1aeb",
   "metadata": {},
   "source": [
    "LSTM을 사용하기"
   ]
  },
  {
   "cell_type": "markdown",
   "id": "1f33f885",
   "metadata": {},
   "source": [
    "RNN, LSTM 설명 https://ratsgo.github.io/natural%20language%20processing/2017/03/09/rnnlstm/"
   ]
  },
  {
   "cell_type": "markdown",
   "id": "28766e5d",
   "metadata": {},
   "source": [
    "불용어처리 https://wikidocs.net/22530"
   ]
  },
  {
   "cell_type": "markdown",
   "id": "9b70d216",
   "metadata": {},
   "source": [
    "효율성 향상 관련 ELECTRA https://brunch.co.kr/@synabreu/55"
   ]
  }
 ],
 "metadata": {
  "kernelspec": {
   "display_name": "Python 3 (ipykernel)",
   "language": "python",
   "name": "python3"
  },
  "language_info": {
   "codemirror_mode": {
    "name": "ipython",
    "version": 3
   },
   "file_extension": ".py",
   "mimetype": "text/x-python",
   "name": "python",
   "nbconvert_exporter": "python",
   "pygments_lexer": "ipython3",
   "version": "3.9.7"
  }
 },
 "nbformat": 4,
 "nbformat_minor": 5
}
