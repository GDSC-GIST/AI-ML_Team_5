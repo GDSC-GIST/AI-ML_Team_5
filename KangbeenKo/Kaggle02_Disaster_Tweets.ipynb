{
  "nbformat": 4,
  "nbformat_minor": 0,
  "metadata": {
    "colab": {
      "name": "Kaggle02_Disaster_Tweets.ipynb",
      "provenance": [],
      "collapsed_sections": [],
      "authorship_tag": "ABX9TyOX2qIOEL6ylmACgoSWTLmg",
      "include_colab_link": true
    },
    "kernelspec": {
      "name": "python3",
      "display_name": "Python 3"
    },
    "language_info": {
      "name": "python"
    }
  },
  "cells": [
    {
      "cell_type": "markdown",
      "metadata": {
        "id": "view-in-github",
        "colab_type": "text"
      },
      "source": [
        "<a href=\"https://colab.research.google.com/github/KevinTheRainmaker/AI-ML_Team_5/blob/main/KangbeenKo/Kaggle02_Disaster_Tweets.ipynb\" target=\"_parent\"><img src=\"https://colab.research.google.com/assets/colab-badge.svg\" alt=\"Open In Colab\"/></a>"
      ]
    },
    {
      "cell_type": "markdown",
      "source": [
        "# Kaggle Novice to Grandmaster\n",
        "### Competition #2: Natural Language Processing with Disaster Tweets\n",
        "\n",
        "- https://www.kaggle.com/c/nlp-getting-started\n",
        "\n",
        "[설명]\n",
        "\n",
        "Twitter has become an important communication channel in times of emergency.\n",
        "The ubiquitousness of smartphones enables people to announce an emergency they’re observing in real-time. Because of this, more agencies are interested in programatically monitoring Twitter (i.e. disaster relief organizations and news agencies).\n",
        "\n",
        "But, it’s not always clear whether a person’s words are actually announcing a disaster. \n",
        "\n",
        "In this competition, you’re challenged to build a machine learning model that predicts which Tweets are about real disasters and which one’s aren’t. You’ll have access to a dataset of 10,000 tweets that were hand classified."
      ],
      "metadata": {
        "id": "hWUzr5TnNguE"
      }
    },
    {
      "cell_type": "code",
      "source": [
        "# mount gdrive\n",
        "from google.colab import drive\n",
        "drive.mount('/content/drive', force_remount=True)\n",
        "\n",
        "path = '/content/drive/MyDrive/data/Kaggle'"
      ],
      "metadata": {
        "colab": {
          "base_uri": "https://localhost:8080/"
        },
        "id": "Vt6JYchyg3JV",
        "outputId": "5e73831f-acde-43aa-cf7b-8775ad6f2212"
      },
      "execution_count": 1,
      "outputs": [
        {
          "output_type": "stream",
          "name": "stdout",
          "text": [
            "Mounted at /content/drive\n"
          ]
        }
      ]
    },
    {
      "cell_type": "code",
      "execution_count": 2,
      "metadata": {
        "id": "YsDW4iiTNXS1",
        "colab": {
          "base_uri": "https://localhost:8080/"
        },
        "outputId": "90e1ff90-266b-40f7-e9ee-37147a35f09d"
      },
      "outputs": [
        {
          "output_type": "stream",
          "name": "stdout",
          "text": [
            "\u001b[K     |████████████████████████████████| 1.5 MB 26.2 MB/s \n",
            "\u001b[K     |████████████████████████████████| 749 kB 48.1 MB/s \n",
            "\u001b[?25h"
          ]
        },
        {
          "output_type": "stream",
          "name": "stderr",
          "text": [
            "[nltk_data] Downloading package stopwords to /root/nltk_data...\n",
            "[nltk_data]   Unzipping corpora/stopwords.zip.\n",
            "[nltk_data] Downloading package punkt to /root/nltk_data...\n",
            "[nltk_data]   Unzipping tokenizers/punkt.zip.\n",
            "[nltk_data] Downloading package wordnet to /root/nltk_data...\n",
            "[nltk_data]   Unzipping corpora/wordnet.zip.\n",
            "[nltk_data] Downloading package omw-1.4 to /root/nltk_data...\n",
            "[nltk_data]   Unzipping corpora/omw-1.4.zip.\n"
          ]
        },
        {
          "output_type": "stream",
          "name": "stdout",
          "text": [
            "\u001b[?25l\r\u001b[K     |▌                               | 10 kB 22.3 MB/s eta 0:00:01\r\u001b[K     |█                               | 20 kB 28.6 MB/s eta 0:00:01\r\u001b[K     |█▋                              | 30 kB 33.6 MB/s eta 0:00:01\r\u001b[K     |██                              | 40 kB 35.1 MB/s eta 0:00:01\r\u001b[K     |██▋                             | 51 kB 34.4 MB/s eta 0:00:01\r\u001b[K     |███▏                            | 61 kB 27.5 MB/s eta 0:00:01\r\u001b[K     |███▊                            | 71 kB 25.7 MB/s eta 0:00:01\r\u001b[K     |████▏                           | 81 kB 26.9 MB/s eta 0:00:01\r\u001b[K     |████▊                           | 92 kB 28.8 MB/s eta 0:00:01\r\u001b[K     |█████▎                          | 102 kB 27.2 MB/s eta 0:00:01\r\u001b[K     |█████▉                          | 112 kB 27.2 MB/s eta 0:00:01\r\u001b[K     |██████▎                         | 122 kB 27.2 MB/s eta 0:00:01\r\u001b[K     |██████▉                         | 133 kB 27.2 MB/s eta 0:00:01\r\u001b[K     |███████▍                        | 143 kB 27.2 MB/s eta 0:00:01\r\u001b[K     |████████                        | 153 kB 27.2 MB/s eta 0:00:01\r\u001b[K     |████████▍                       | 163 kB 27.2 MB/s eta 0:00:01\r\u001b[K     |█████████                       | 174 kB 27.2 MB/s eta 0:00:01\r\u001b[K     |█████████▌                      | 184 kB 27.2 MB/s eta 0:00:01\r\u001b[K     |██████████                      | 194 kB 27.2 MB/s eta 0:00:01\r\u001b[K     |██████████▌                     | 204 kB 27.2 MB/s eta 0:00:01\r\u001b[K     |███████████                     | 215 kB 27.2 MB/s eta 0:00:01\r\u001b[K     |███████████▋                    | 225 kB 27.2 MB/s eta 0:00:01\r\u001b[K     |████████████                    | 235 kB 27.2 MB/s eta 0:00:01\r\u001b[K     |████████████▋                   | 245 kB 27.2 MB/s eta 0:00:01\r\u001b[K     |█████████████▏                  | 256 kB 27.2 MB/s eta 0:00:01\r\u001b[K     |█████████████▊                  | 266 kB 27.2 MB/s eta 0:00:01\r\u001b[K     |██████████████▏                 | 276 kB 27.2 MB/s eta 0:00:01\r\u001b[K     |██████████████▊                 | 286 kB 27.2 MB/s eta 0:00:01\r\u001b[K     |███████████████▎                | 296 kB 27.2 MB/s eta 0:00:01\r\u001b[K     |███████████████▉                | 307 kB 27.2 MB/s eta 0:00:01\r\u001b[K     |████████████████▎               | 317 kB 27.2 MB/s eta 0:00:01\r\u001b[K     |████████████████▉               | 327 kB 27.2 MB/s eta 0:00:01\r\u001b[K     |█████████████████▍              | 337 kB 27.2 MB/s eta 0:00:01\r\u001b[K     |██████████████████              | 348 kB 27.2 MB/s eta 0:00:01\r\u001b[K     |██████████████████▍             | 358 kB 27.2 MB/s eta 0:00:01\r\u001b[K     |███████████████████             | 368 kB 27.2 MB/s eta 0:00:01\r\u001b[K     |███████████████████▌            | 378 kB 27.2 MB/s eta 0:00:01\r\u001b[K     |████████████████████            | 389 kB 27.2 MB/s eta 0:00:01\r\u001b[K     |████████████████████▌           | 399 kB 27.2 MB/s eta 0:00:01\r\u001b[K     |█████████████████████           | 409 kB 27.2 MB/s eta 0:00:01\r\u001b[K     |█████████████████████▋          | 419 kB 27.2 MB/s eta 0:00:01\r\u001b[K     |██████████████████████          | 430 kB 27.2 MB/s eta 0:00:01\r\u001b[K     |██████████████████████▋         | 440 kB 27.2 MB/s eta 0:00:01\r\u001b[K     |███████████████████████▏        | 450 kB 27.2 MB/s eta 0:00:01\r\u001b[K     |███████████████████████▊        | 460 kB 27.2 MB/s eta 0:00:01\r\u001b[K     |████████████████████████▏       | 471 kB 27.2 MB/s eta 0:00:01\r\u001b[K     |████████████████████████▊       | 481 kB 27.2 MB/s eta 0:00:01\r\u001b[K     |█████████████████████████▎      | 491 kB 27.2 MB/s eta 0:00:01\r\u001b[K     |█████████████████████████▉      | 501 kB 27.2 MB/s eta 0:00:01\r\u001b[K     |██████████████████████████▎     | 512 kB 27.2 MB/s eta 0:00:01\r\u001b[K     |██████████████████████████▉     | 522 kB 27.2 MB/s eta 0:00:01\r\u001b[K     |███████████████████████████▍    | 532 kB 27.2 MB/s eta 0:00:01\r\u001b[K     |███████████████████████████▉    | 542 kB 27.2 MB/s eta 0:00:01\r\u001b[K     |████████████████████████████▍   | 552 kB 27.2 MB/s eta 0:00:01\r\u001b[K     |█████████████████████████████   | 563 kB 27.2 MB/s eta 0:00:01\r\u001b[K     |█████████████████████████████▌  | 573 kB 27.2 MB/s eta 0:00:01\r\u001b[K     |██████████████████████████████  | 583 kB 27.2 MB/s eta 0:00:01\r\u001b[K     |██████████████████████████████▌ | 593 kB 27.2 MB/s eta 0:00:01\r\u001b[K     |███████████████████████████████ | 604 kB 27.2 MB/s eta 0:00:01\r\u001b[K     |███████████████████████████████▋| 614 kB 27.2 MB/s eta 0:00:01\r\u001b[K     |████████████████████████████████| 622 kB 27.2 MB/s \n",
            "\u001b[?25h  Building wheel for autocorrect (setup.py) ... \u001b[?25l\u001b[?25hdone\n"
          ]
        },
        {
          "output_type": "stream",
          "name": "stderr",
          "text": [
            "\r0it [00:00, ?it/s]\n",
            "TqdmDeprecationWarning: Please use `tqdm.pandas(...)` instead of `tqdm_pandas(tqdm(...))`.\n"
          ]
        },
        {
          "output_type": "stream",
          "name": "stdout",
          "text": [
            "\u001b[?25l\r\u001b[K     |█████▋                          | 10 kB 23.2 MB/s eta 0:00:01\r\u001b[K     |███████████▏                    | 20 kB 29.1 MB/s eta 0:00:01\r\u001b[K     |████████████████▊               | 30 kB 33.0 MB/s eta 0:00:01\r\u001b[K     |██████████████████████▎         | 40 kB 34.9 MB/s eta 0:00:01\r\u001b[K     |███████████████████████████▉    | 51 kB 35.9 MB/s eta 0:00:01\r\u001b[K     |████████████████████████████████| 58 kB 5.5 MB/s \n",
            "\u001b[?25h  Building wheel for kaggle (setup.py) ... \u001b[?25l\u001b[?25hdone\n"
          ]
        }
      ],
      "source": [
        "# Packages\n",
        "\n",
        "# Pyhton's Basic packages\n",
        "import os\n",
        "\n",
        "import pandas as pd\n",
        "import numpy as np\n",
        "import math, re, time, random, string\n",
        "from itertools import islice\n",
        "\n",
        "# Visualize\n",
        "import seaborn as sns\n",
        "import matplotlib.pyplot as plt\n",
        "%matplotlib inline\n",
        "\n",
        "\n",
        "# No Warnings\n",
        "import warnings\n",
        "warnings.filterwarnings(action='ignore')\n",
        "\n",
        "# for NLP\n",
        "from collections import defaultdict\n",
        "import wordcloud\n",
        "\n",
        "# install nltk\n",
        "!pip install -U -q nltk\n",
        "import nltk\n",
        "nltk.download('stopwords')\n",
        "nltk.download('punkt')\n",
        "nltk.download('wordnet')\n",
        "nltk.download('omw-1.4')\n",
        "from nltk.tokenize import word_tokenize\n",
        "from nltk.corpus import stopwords\n",
        "from nltk.stem.snowball import SnowballStemmer\n",
        "from nltk.stem import WordNetLemmatizer\n",
        "\n",
        "#install autocorrect\n",
        "!pip install -q autocorrect\n",
        "from autocorrect import Speller \n",
        "\n",
        "# to see progress\n",
        "from tqdm import tqdm, tqdm_pandas\n",
        "tqdm_pandas(tqdm())\n",
        "\n",
        "# for model construction\n",
        "import tensorflow as tf\n",
        "from tensorflow import keras\n",
        "from keras.preprocessing.text import Tokenizer\n",
        "from keras.preprocessing.sequence import pad_sequences\n",
        "from keras.layers import Conv1D, Bidirectional, LSTM, Dense, Dropout, Input, SpatialDropout1D\n",
        "from keras.models import Model\n",
        "\n",
        "from sklearn.model_selection import train_test_split\n",
        "\n",
        "# Kaggle API Set-up\n",
        "!pip install -q --upgrade --force-reinstall --no-deps kaggle\n",
        "os.environ['KAGGLE_USERNAME'] = 'kangbeenko'\n",
        "os.environ['KAGGLE_KEY'] = '7bf5875a0067e432fb8a9300acd60b8e'"
      ]
    },
    {
      "cell_type": "markdown",
      "source": [
        "## Dataset"
      ],
      "metadata": {
        "id": "HM80-2YfNuMU"
      }
    },
    {
      "cell_type": "code",
      "source": [
        "!kaggle competitions download -c nlp-getting-started\n",
        "!mv nlp-getting-started.zip drive/MyDrive/data/Kaggle/"
      ],
      "metadata": {
        "colab": {
          "base_uri": "https://localhost:8080/"
        },
        "id": "bddtNp2pNsSr",
        "outputId": "85e69aff-1a5b-4734-b5a5-6141df923d88"
      },
      "execution_count": 3,
      "outputs": [
        {
          "output_type": "stream",
          "name": "stdout",
          "text": [
            "Downloading nlp-getting-started.zip to /content\n",
            "100% 593k/593k [00:00<00:00, 4.05MB/s]\n",
            "100% 593k/593k [00:00<00:00, 4.04MB/s]\n"
          ]
        }
      ]
    },
    {
      "cell_type": "code",
      "source": [
        "!unzip drive/MyDrive/data/Kaggle/nlp-getting-started.zip"
      ],
      "metadata": {
        "colab": {
          "base_uri": "https://localhost:8080/"
        },
        "id": "zvmTAkQsirB2",
        "outputId": "dd4ccfbd-2099-43b3-b30d-3d890ee56132"
      },
      "execution_count": 4,
      "outputs": [
        {
          "output_type": "stream",
          "name": "stdout",
          "text": [
            "Archive:  drive/MyDrive/data/Kaggle/nlp-getting-started.zip\n",
            "  inflating: sample_submission.csv   \n",
            "  inflating: test.csv                \n",
            "  inflating: train.csv               \n"
          ]
        }
      ]
    },
    {
      "cell_type": "code",
      "source": [
        "!unzip drive/MyDrive/data/Kaggle/glove.twitter.27B.zip"
      ],
      "metadata": {
        "colab": {
          "base_uri": "https://localhost:8080/"
        },
        "id": "XrTijdYHlQqB",
        "outputId": "f4ae1636-5484-48e0-9962-1149b9970e1c"
      },
      "execution_count": 5,
      "outputs": [
        {
          "output_type": "stream",
          "name": "stdout",
          "text": [
            "Archive:  drive/MyDrive/data/Kaggle/glove.twitter.27B.zip\n",
            "  inflating: glove.twitter.27B.25d.txt  \n",
            "  inflating: glove.twitter.27B.50d.txt  \n",
            "  inflating: glove.twitter.27B.100d.txt  \n",
            "  inflating: glove.twitter.27B.200d.txt  \n"
          ]
        }
      ]
    },
    {
      "cell_type": "code",
      "source": [
        "train_df=pd.read_csv('./train.csv')\n",
        "test_df=pd.read_csv('./test.csv')\n",
        "\n",
        "print(\"Trainset counts: \", train_df['id'].count())\n",
        "print(\"Testset counts: \", test_df['id'].count())"
      ],
      "metadata": {
        "id": "xzNllyTONyEr",
        "colab": {
          "base_uri": "https://localhost:8080/"
        },
        "outputId": "268bbea0-ffec-4fe4-94d2-d9d5e1251a40"
      },
      "execution_count": 77,
      "outputs": [
        {
          "output_type": "stream",
          "name": "stdout",
          "text": [
            "Trainset counts:  7613\n",
            "Testset counts:  3263\n"
          ]
        }
      ]
    },
    {
      "cell_type": "code",
      "source": [
        "train_df.tail()"
      ],
      "metadata": {
        "id": "8xQU3HTbOJHS",
        "colab": {
          "base_uri": "https://localhost:8080/",
          "height": 206
        },
        "outputId": "a9b48d22-1a92-40f6-b194-a950b037ce48"
      },
      "execution_count": 78,
      "outputs": [
        {
          "output_type": "execute_result",
          "data": {
            "text/html": [
              "\n",
              "  <div id=\"df-523ff174-99d3-453d-83db-7772f2a15ca9\">\n",
              "    <div class=\"colab-df-container\">\n",
              "      <div>\n",
              "<style scoped>\n",
              "    .dataframe tbody tr th:only-of-type {\n",
              "        vertical-align: middle;\n",
              "    }\n",
              "\n",
              "    .dataframe tbody tr th {\n",
              "        vertical-align: top;\n",
              "    }\n",
              "\n",
              "    .dataframe thead th {\n",
              "        text-align: right;\n",
              "    }\n",
              "</style>\n",
              "<table border=\"1\" class=\"dataframe\">\n",
              "  <thead>\n",
              "    <tr style=\"text-align: right;\">\n",
              "      <th></th>\n",
              "      <th>id</th>\n",
              "      <th>keyword</th>\n",
              "      <th>location</th>\n",
              "      <th>text</th>\n",
              "      <th>target</th>\n",
              "    </tr>\n",
              "  </thead>\n",
              "  <tbody>\n",
              "    <tr>\n",
              "      <th>7608</th>\n",
              "      <td>10869</td>\n",
              "      <td>NaN</td>\n",
              "      <td>NaN</td>\n",
              "      <td>Two giant cranes holding a bridge collapse int...</td>\n",
              "      <td>1</td>\n",
              "    </tr>\n",
              "    <tr>\n",
              "      <th>7609</th>\n",
              "      <td>10870</td>\n",
              "      <td>NaN</td>\n",
              "      <td>NaN</td>\n",
              "      <td>@aria_ahrary @TheTawniest The out of control w...</td>\n",
              "      <td>1</td>\n",
              "    </tr>\n",
              "    <tr>\n",
              "      <th>7610</th>\n",
              "      <td>10871</td>\n",
              "      <td>NaN</td>\n",
              "      <td>NaN</td>\n",
              "      <td>M1.94 [01:04 UTC]?5km S of Volcano Hawaii. htt...</td>\n",
              "      <td>1</td>\n",
              "    </tr>\n",
              "    <tr>\n",
              "      <th>7611</th>\n",
              "      <td>10872</td>\n",
              "      <td>NaN</td>\n",
              "      <td>NaN</td>\n",
              "      <td>Police investigating after an e-bike collided ...</td>\n",
              "      <td>1</td>\n",
              "    </tr>\n",
              "    <tr>\n",
              "      <th>7612</th>\n",
              "      <td>10873</td>\n",
              "      <td>NaN</td>\n",
              "      <td>NaN</td>\n",
              "      <td>The Latest: More Homes Razed by Northern Calif...</td>\n",
              "      <td>1</td>\n",
              "    </tr>\n",
              "  </tbody>\n",
              "</table>\n",
              "</div>\n",
              "      <button class=\"colab-df-convert\" onclick=\"convertToInteractive('df-523ff174-99d3-453d-83db-7772f2a15ca9')\"\n",
              "              title=\"Convert this dataframe to an interactive table.\"\n",
              "              style=\"display:none;\">\n",
              "        \n",
              "  <svg xmlns=\"http://www.w3.org/2000/svg\" height=\"24px\"viewBox=\"0 0 24 24\"\n",
              "       width=\"24px\">\n",
              "    <path d=\"M0 0h24v24H0V0z\" fill=\"none\"/>\n",
              "    <path d=\"M18.56 5.44l.94 2.06.94-2.06 2.06-.94-2.06-.94-.94-2.06-.94 2.06-2.06.94zm-11 1L8.5 8.5l.94-2.06 2.06-.94-2.06-.94L8.5 2.5l-.94 2.06-2.06.94zm10 10l.94 2.06.94-2.06 2.06-.94-2.06-.94-.94-2.06-.94 2.06-2.06.94z\"/><path d=\"M17.41 7.96l-1.37-1.37c-.4-.4-.92-.59-1.43-.59-.52 0-1.04.2-1.43.59L10.3 9.45l-7.72 7.72c-.78.78-.78 2.05 0 2.83L4 21.41c.39.39.9.59 1.41.59.51 0 1.02-.2 1.41-.59l7.78-7.78 2.81-2.81c.8-.78.8-2.07 0-2.86zM5.41 20L4 18.59l7.72-7.72 1.47 1.35L5.41 20z\"/>\n",
              "  </svg>\n",
              "      </button>\n",
              "      \n",
              "  <style>\n",
              "    .colab-df-container {\n",
              "      display:flex;\n",
              "      flex-wrap:wrap;\n",
              "      gap: 12px;\n",
              "    }\n",
              "\n",
              "    .colab-df-convert {\n",
              "      background-color: #E8F0FE;\n",
              "      border: none;\n",
              "      border-radius: 50%;\n",
              "      cursor: pointer;\n",
              "      display: none;\n",
              "      fill: #1967D2;\n",
              "      height: 32px;\n",
              "      padding: 0 0 0 0;\n",
              "      width: 32px;\n",
              "    }\n",
              "\n",
              "    .colab-df-convert:hover {\n",
              "      background-color: #E2EBFA;\n",
              "      box-shadow: 0px 1px 2px rgba(60, 64, 67, 0.3), 0px 1px 3px 1px rgba(60, 64, 67, 0.15);\n",
              "      fill: #174EA6;\n",
              "    }\n",
              "\n",
              "    [theme=dark] .colab-df-convert {\n",
              "      background-color: #3B4455;\n",
              "      fill: #D2E3FC;\n",
              "    }\n",
              "\n",
              "    [theme=dark] .colab-df-convert:hover {\n",
              "      background-color: #434B5C;\n",
              "      box-shadow: 0px 1px 3px 1px rgba(0, 0, 0, 0.15);\n",
              "      filter: drop-shadow(0px 1px 2px rgba(0, 0, 0, 0.3));\n",
              "      fill: #FFFFFF;\n",
              "    }\n",
              "  </style>\n",
              "\n",
              "      <script>\n",
              "        const buttonEl =\n",
              "          document.querySelector('#df-523ff174-99d3-453d-83db-7772f2a15ca9 button.colab-df-convert');\n",
              "        buttonEl.style.display =\n",
              "          google.colab.kernel.accessAllowed ? 'block' : 'none';\n",
              "\n",
              "        async function convertToInteractive(key) {\n",
              "          const element = document.querySelector('#df-523ff174-99d3-453d-83db-7772f2a15ca9');\n",
              "          const dataTable =\n",
              "            await google.colab.kernel.invokeFunction('convertToInteractive',\n",
              "                                                     [key], {});\n",
              "          if (!dataTable) return;\n",
              "\n",
              "          const docLinkHtml = 'Like what you see? Visit the ' +\n",
              "            '<a target=\"_blank\" href=https://colab.research.google.com/notebooks/data_table.ipynb>data table notebook</a>'\n",
              "            + ' to learn more about interactive tables.';\n",
              "          element.innerHTML = '';\n",
              "          dataTable['output_type'] = 'display_data';\n",
              "          await google.colab.output.renderOutput(dataTable, element);\n",
              "          const docLink = document.createElement('div');\n",
              "          docLink.innerHTML = docLinkHtml;\n",
              "          element.appendChild(docLink);\n",
              "        }\n",
              "      </script>\n",
              "    </div>\n",
              "  </div>\n",
              "  "
            ],
            "text/plain": [
              "         id keyword  ...                                               text target\n",
              "7608  10869     NaN  ...  Two giant cranes holding a bridge collapse int...      1\n",
              "7609  10870     NaN  ...  @aria_ahrary @TheTawniest The out of control w...      1\n",
              "7610  10871     NaN  ...  M1.94 [01:04 UTC]?5km S of Volcano Hawaii. htt...      1\n",
              "7611  10872     NaN  ...  Police investigating after an e-bike collided ...      1\n",
              "7612  10873     NaN  ...  The Latest: More Homes Razed by Northern Calif...      1\n",
              "\n",
              "[5 rows x 5 columns]"
            ]
          },
          "metadata": {},
          "execution_count": 78
        }
      ]
    },
    {
      "cell_type": "code",
      "source": [
        "test_df.tail()"
      ],
      "metadata": {
        "colab": {
          "base_uri": "https://localhost:8080/",
          "height": 206
        },
        "id": "rYgaKS7ZjD1k",
        "outputId": "c89e6056-c003-4f26-88f1-acbe9171e086"
      },
      "execution_count": 79,
      "outputs": [
        {
          "output_type": "execute_result",
          "data": {
            "text/html": [
              "\n",
              "  <div id=\"df-eaee6fd1-78e3-4de4-98ca-b877f105c0a7\">\n",
              "    <div class=\"colab-df-container\">\n",
              "      <div>\n",
              "<style scoped>\n",
              "    .dataframe tbody tr th:only-of-type {\n",
              "        vertical-align: middle;\n",
              "    }\n",
              "\n",
              "    .dataframe tbody tr th {\n",
              "        vertical-align: top;\n",
              "    }\n",
              "\n",
              "    .dataframe thead th {\n",
              "        text-align: right;\n",
              "    }\n",
              "</style>\n",
              "<table border=\"1\" class=\"dataframe\">\n",
              "  <thead>\n",
              "    <tr style=\"text-align: right;\">\n",
              "      <th></th>\n",
              "      <th>id</th>\n",
              "      <th>keyword</th>\n",
              "      <th>location</th>\n",
              "      <th>text</th>\n",
              "    </tr>\n",
              "  </thead>\n",
              "  <tbody>\n",
              "    <tr>\n",
              "      <th>3258</th>\n",
              "      <td>10861</td>\n",
              "      <td>NaN</td>\n",
              "      <td>NaN</td>\n",
              "      <td>EARTHQUAKE SAFETY LOS ANGELES ÛÒ SAFETY FASTE...</td>\n",
              "    </tr>\n",
              "    <tr>\n",
              "      <th>3259</th>\n",
              "      <td>10865</td>\n",
              "      <td>NaN</td>\n",
              "      <td>NaN</td>\n",
              "      <td>Storm in RI worse than last hurricane. My city...</td>\n",
              "    </tr>\n",
              "    <tr>\n",
              "      <th>3260</th>\n",
              "      <td>10868</td>\n",
              "      <td>NaN</td>\n",
              "      <td>NaN</td>\n",
              "      <td>Green Line derailment in Chicago http://t.co/U...</td>\n",
              "    </tr>\n",
              "    <tr>\n",
              "      <th>3261</th>\n",
              "      <td>10874</td>\n",
              "      <td>NaN</td>\n",
              "      <td>NaN</td>\n",
              "      <td>MEG issues Hazardous Weather Outlook (HWO) htt...</td>\n",
              "    </tr>\n",
              "    <tr>\n",
              "      <th>3262</th>\n",
              "      <td>10875</td>\n",
              "      <td>NaN</td>\n",
              "      <td>NaN</td>\n",
              "      <td>#CityofCalgary has activated its Municipal Eme...</td>\n",
              "    </tr>\n",
              "  </tbody>\n",
              "</table>\n",
              "</div>\n",
              "      <button class=\"colab-df-convert\" onclick=\"convertToInteractive('df-eaee6fd1-78e3-4de4-98ca-b877f105c0a7')\"\n",
              "              title=\"Convert this dataframe to an interactive table.\"\n",
              "              style=\"display:none;\">\n",
              "        \n",
              "  <svg xmlns=\"http://www.w3.org/2000/svg\" height=\"24px\"viewBox=\"0 0 24 24\"\n",
              "       width=\"24px\">\n",
              "    <path d=\"M0 0h24v24H0V0z\" fill=\"none\"/>\n",
              "    <path d=\"M18.56 5.44l.94 2.06.94-2.06 2.06-.94-2.06-.94-.94-2.06-.94 2.06-2.06.94zm-11 1L8.5 8.5l.94-2.06 2.06-.94-2.06-.94L8.5 2.5l-.94 2.06-2.06.94zm10 10l.94 2.06.94-2.06 2.06-.94-2.06-.94-.94-2.06-.94 2.06-2.06.94z\"/><path d=\"M17.41 7.96l-1.37-1.37c-.4-.4-.92-.59-1.43-.59-.52 0-1.04.2-1.43.59L10.3 9.45l-7.72 7.72c-.78.78-.78 2.05 0 2.83L4 21.41c.39.39.9.59 1.41.59.51 0 1.02-.2 1.41-.59l7.78-7.78 2.81-2.81c.8-.78.8-2.07 0-2.86zM5.41 20L4 18.59l7.72-7.72 1.47 1.35L5.41 20z\"/>\n",
              "  </svg>\n",
              "      </button>\n",
              "      \n",
              "  <style>\n",
              "    .colab-df-container {\n",
              "      display:flex;\n",
              "      flex-wrap:wrap;\n",
              "      gap: 12px;\n",
              "    }\n",
              "\n",
              "    .colab-df-convert {\n",
              "      background-color: #E8F0FE;\n",
              "      border: none;\n",
              "      border-radius: 50%;\n",
              "      cursor: pointer;\n",
              "      display: none;\n",
              "      fill: #1967D2;\n",
              "      height: 32px;\n",
              "      padding: 0 0 0 0;\n",
              "      width: 32px;\n",
              "    }\n",
              "\n",
              "    .colab-df-convert:hover {\n",
              "      background-color: #E2EBFA;\n",
              "      box-shadow: 0px 1px 2px rgba(60, 64, 67, 0.3), 0px 1px 3px 1px rgba(60, 64, 67, 0.15);\n",
              "      fill: #174EA6;\n",
              "    }\n",
              "\n",
              "    [theme=dark] .colab-df-convert {\n",
              "      background-color: #3B4455;\n",
              "      fill: #D2E3FC;\n",
              "    }\n",
              "\n",
              "    [theme=dark] .colab-df-convert:hover {\n",
              "      background-color: #434B5C;\n",
              "      box-shadow: 0px 1px 3px 1px rgba(0, 0, 0, 0.15);\n",
              "      filter: drop-shadow(0px 1px 2px rgba(0, 0, 0, 0.3));\n",
              "      fill: #FFFFFF;\n",
              "    }\n",
              "  </style>\n",
              "\n",
              "      <script>\n",
              "        const buttonEl =\n",
              "          document.querySelector('#df-eaee6fd1-78e3-4de4-98ca-b877f105c0a7 button.colab-df-convert');\n",
              "        buttonEl.style.display =\n",
              "          google.colab.kernel.accessAllowed ? 'block' : 'none';\n",
              "\n",
              "        async function convertToInteractive(key) {\n",
              "          const element = document.querySelector('#df-eaee6fd1-78e3-4de4-98ca-b877f105c0a7');\n",
              "          const dataTable =\n",
              "            await google.colab.kernel.invokeFunction('convertToInteractive',\n",
              "                                                     [key], {});\n",
              "          if (!dataTable) return;\n",
              "\n",
              "          const docLinkHtml = 'Like what you see? Visit the ' +\n",
              "            '<a target=\"_blank\" href=https://colab.research.google.com/notebooks/data_table.ipynb>data table notebook</a>'\n",
              "            + ' to learn more about interactive tables.';\n",
              "          element.innerHTML = '';\n",
              "          dataTable['output_type'] = 'display_data';\n",
              "          await google.colab.output.renderOutput(dataTable, element);\n",
              "          const docLink = document.createElement('div');\n",
              "          docLink.innerHTML = docLinkHtml;\n",
              "          element.appendChild(docLink);\n",
              "        }\n",
              "      </script>\n",
              "    </div>\n",
              "  </div>\n",
              "  "
            ],
            "text/plain": [
              "         id keyword location                                               text\n",
              "3258  10861     NaN      NaN  EARTHQUAKE SAFETY LOS ANGELES ÛÒ SAFETY FASTE...\n",
              "3259  10865     NaN      NaN  Storm in RI worse than last hurricane. My city...\n",
              "3260  10868     NaN      NaN  Green Line derailment in Chicago http://t.co/U...\n",
              "3261  10874     NaN      NaN  MEG issues Hazardous Weather Outlook (HWO) htt...\n",
              "3262  10875     NaN      NaN  #CityofCalgary has activated its Municipal Eme..."
            ]
          },
          "metadata": {},
          "execution_count": 79
        }
      ]
    },
    {
      "cell_type": "markdown",
      "source": [
        "target이 1이면 disaster tweet이고, 0인 경우 disaster tweet이 아니다."
      ],
      "metadata": {
        "id": "9MMtYr22xcsv"
      }
    },
    {
      "cell_type": "code",
      "source": [
        "print(train_df[train_df[\"target\"] == 0][\"text\"].values[1])\n",
        "print(train_df[train_df[\"target\"] == 1][\"text\"].values[1])"
      ],
      "metadata": {
        "colab": {
          "base_uri": "https://localhost:8080/"
        },
        "id": "4tsCRd8mjqfJ",
        "outputId": "5d6a9cb2-b9d1-4499-a420-336465141407"
      },
      "execution_count": 80,
      "outputs": [
        {
          "output_type": "stream",
          "name": "stdout",
          "text": [
            "I love fruits\n",
            "Forest fire near La Ronge Sask. Canada\n"
          ]
        }
      ]
    },
    {
      "cell_type": "code",
      "source": [
        "print(train_df[train_df[\"keyword\"].notnull()].iloc[0])"
      ],
      "metadata": {
        "colab": {
          "base_uri": "https://localhost:8080/"
        },
        "id": "Wv8FKQH7xTKF",
        "outputId": "1a4769d5-d646-4014-e6d2-17f8fefa2c67"
      },
      "execution_count": 81,
      "outputs": [
        {
          "output_type": "stream",
          "name": "stdout",
          "text": [
            "id                                                         48\n",
            "keyword                                                ablaze\n",
            "location                                           Birmingham\n",
            "text        @bbcmtd Wholesale Markets ablaze http://t.co/l...\n",
            "target                                                      1\n",
            "Name: 31, dtype: object\n"
          ]
        }
      ]
    },
    {
      "cell_type": "code",
      "source": [
        "# Plotting target value counts\n",
        "plt.figure(figsize=(8,6))\n",
        "ax = train_df['target'].value_counts().sort_values().plot(kind=\"bar\")\n",
        "ax.grid(axis=\"y\")\n",
        "plt.suptitle(\"Target Value Counts\", fontsize=20)\n",
        "plt.show()"
      ],
      "metadata": {
        "colab": {
          "base_uri": "https://localhost:8080/",
          "height": 414
        },
        "id": "3Iio17XjmL8o",
        "outputId": "9a2e32b4-44ea-4e27-9af6-a1ac6d5ff7f5"
      },
      "execution_count": 82,
      "outputs": [
        {
          "output_type": "display_data",
          "data": {
            "image/png": "[encoded data removed]",
            "text/plain": [
              "<Figure size 576x432 with 1 Axes>"
            ]
          },
          "metadata": {
            "needs_background": "light"
          }
        }
      ]
    },
    {
      "cell_type": "code",
      "source": [
        "train_df.isnull().sum()"
      ],
      "metadata": {
        "colab": {
          "base_uri": "https://localhost:8080/"
        },
        "id": "-3AZ9vpbmeZ4",
        "outputId": "2ed47447-af02-4c9a-a145-fffa9868ab27"
      },
      "execution_count": 83,
      "outputs": [
        {
          "output_type": "execute_result",
          "data": {
            "text/plain": [
              "id             0\n",
              "keyword       61\n",
              "location    2533\n",
              "text           0\n",
              "target         0\n",
              "dtype: int64"
            ]
          },
          "metadata": {},
          "execution_count": 83
        }
      ]
    },
    {
      "cell_type": "code",
      "source": [
        "plt.figure(figsize=(15,8))\n",
        "sns.heatmap(train_df.drop('id', axis=1).isnull(), cbar=False, cmap=\"GnBu\").set_title(\"Missing data for each column\")\n",
        "plt.show()"
      ],
      "metadata": {
        "colab": {
          "base_uri": "https://localhost:8080/",
          "height": 499
        },
        "id": "Qe8V368-mkIz",
        "outputId": "09c0256d-0d4c-4361-86ac-f01976706fb3"
      },
      "execution_count": 84,
      "outputs": [
        {
          "output_type": "display_data",
          "data": {
            "image/png": "[encoded data removed]",
            "text/plain": [
              "<Figure size 1080x576 with 1 Axes>"
            ]
          },
          "metadata": {
            "needs_background": "light"
          }
        }
      ]
    },
    {
      "cell_type": "code",
      "source": [
        "lengths = np.array([len(x) for x in train_df['text']])\n",
        "print(np.mean(lengths), np.median(lengths))"
      ],
      "metadata": {
        "colab": {
          "base_uri": "https://localhost:8080/"
        },
        "id": "i2JOxAxEsbun",
        "outputId": "faeb37f5-c74e-434d-a349-76b5085f679f"
      },
      "execution_count": 85,
      "outputs": [
        {
          "output_type": "stream",
          "name": "stdout",
          "text": [
            "101.03743596479706 107.0\n"
          ]
        }
      ]
    },
    {
      "cell_type": "code",
      "source": [
        "plt.hist(lengths)\n",
        "plt.xlabel('length')\n",
        "plt.ylabel('frequency')\n",
        "plt.show()"
      ],
      "metadata": {
        "colab": {
          "base_uri": "https://localhost:8080/",
          "height": 279
        },
        "id": "3dEdL0sLswMg",
        "outputId": "013e3660-ddad-462f-911d-5b2b5cfec631"
      },
      "execution_count": 86,
      "outputs": [
        {
          "output_type": "display_data",
          "data": {
            "image/png": "[encoded data removed]",
            "text/plain": [
              "<Figure size 432x288 with 1 Axes>"
            ]
          },
          "metadata": {
            "needs_background": "light"
          }
        }
      ]
    },
    {
      "cell_type": "markdown",
      "source": [
        "## Cleaning"
      ],
      "metadata": {
        "id": "aaK-KCDYm7z8"
      }
    },
    {
      "cell_type": "code",
      "source": [
        "# create function to spell check strings\n",
        "def spell_check(x):\n",
        "    spell = Speller(lang='en')\n",
        "    return \" \".join([spell(i) for i in x.split()])\n",
        "\n",
        "# showcase spellcheck \n",
        "mispelled = 'Pleaze spel check this sentince'\n",
        "spell_check(mispelled)"
      ],
      "metadata": {
        "colab": {
          "base_uri": "https://localhost:8080/",
          "height": 35
        },
        "id": "M2vvofv0RRnD",
        "outputId": "f3ba2202-81e7-4c04-8d33-80476dc13822"
      },
      "execution_count": 87,
      "outputs": [
        {
          "output_type": "execute_result",
          "data": {
            "application/vnd.google.colaboratory.intrinsic+json": {
              "type": "string"
            },
            "text/plain": [
              "'Please spell check this sentence'"
            ]
          },
          "metadata": {},
          "execution_count": 87
        }
      ]
    },
    {
      "cell_type": "code",
      "source": [
        "stop_words = set(stopwords.words('english'))\n",
        "stemmer = SnowballStemmer(language='english')\n",
        "lemmatizer = WordNetLemmatizer()\n",
        "\n",
        "def clean_text(x):\n",
        "    # remove URL from text\n",
        "    x_no_url = re.sub(r'https?://\\S+|www\\.\\S+', '', x, flags = re.IGNORECASE|re.MULTILINE)\n",
        "    \n",
        "    # remove numbers from text\n",
        "    x_no_num = re.sub(r'\\d+', '', x_no_url)\n",
        "\n",
        "    # remove shortwords from text\n",
        "    x_no_short = re.sub(r'\\W*\\b\\w{1,2}\\b', '', x_no_num)\n",
        "\n",
        "    # tokenize each text\n",
        "    word_tokens = word_tokenize(x_no_short)\n",
        "    \n",
        "    # remove spatial character\n",
        "    clean_text = []\n",
        "    for word in word_tokens:\n",
        "        clean_text.append(\"\".join([e for e in word if e.isalnum()]))\n",
        "\n",
        "    # remove stop words and lower\n",
        "    x_with_no_stop_word = [w.lower() for w in clean_text if not w in stop_words]  \n",
        "\n",
        "    # do stemming\n",
        "    stemmed_text = [stemmer.stem(w) for w in x_with_no_stop_word]\n",
        "\n",
        "    # do lemmatization\n",
        "    lemmatized_text = [lemmatizer.lemmatize(w, 'v') for w in stemmed_text]\n",
        "    \n",
        "    return \" \".join(\" \".join(lemmatized_text).split())"
      ],
      "metadata": {
        "id": "oSWi289n3lXo"
      },
      "execution_count": 88,
      "outputs": []
    },
    {
      "cell_type": "code",
      "source": [
        "total = [train_df, test_df]\n",
        "for dataset in total:\n",
        "    #apply all of above functions\n",
        "    dataset['keyword'].fillna('none', inplace=True)\n",
        "    dataset['clean_text'] = dataset['text'].progress_apply(clean_text)\n",
        "    dataset['clean_keyword'] = dataset['keyword'].progress_apply(clean_text)\n",
        "    dataset['keyword_text'] = dataset['clean_keyword'] + \" \" + dataset[\"clean_text\"]\n",
        "    dataset['keyword_text'] = dataset['keyword_text'].progress_apply(spell_check)"
      ],
      "metadata": {
        "colab": {
          "base_uri": "https://localhost:8080/"
        },
        "id": "vYAv3SLar5BE",
        "outputId": "c4ec9590-f08c-4860-c751-0e93cc355deb"
      },
      "execution_count": 89,
      "outputs": [
        {
          "output_type": "stream",
          "name": "stderr",
          "text": [
            "100%|██████████| 7613/7613 [00:03<00:00, 2089.56it/s]\n",
            "100%|██████████| 7613/7613 [00:01<00:00, 7047.41it/s]\n",
            "100%|██████████| 7613/7613 [30:53<00:00,  4.11it/s]\n",
            "100%|██████████| 3263/3263 [00:01<00:00, 2049.04it/s]\n",
            "100%|██████████| 3263/3263 [00:00<00:00, 7195.75it/s]\n",
            "100%|██████████| 3263/3263 [13:43<00:00,  3.96it/s]\n"
          ]
        }
      ]
    },
    {
      "cell_type": "code",
      "source": [
        "train_df[:5]"
      ],
      "metadata": {
        "colab": {
          "base_uri": "https://localhost:8080/",
          "height": 285
        },
        "id": "iA3yTYMvr4_O",
        "outputId": "709d717b-aed1-4669-f5d6-19e9ab93cb59"
      },
      "execution_count": 90,
      "outputs": [
        {
          "output_type": "execute_result",
          "data": {
            "text/html": [
              "\n",
              "  <div id=\"df-12a8f0d1-8f42-4586-8cb0-01e8860ca23f\">\n",
              "    <div class=\"colab-df-container\">\n",
              "      <div>\n",
              "<style scoped>\n",
              "    .dataframe tbody tr th:only-of-type {\n",
              "        vertical-align: middle;\n",
              "    }\n",
              "\n",
              "    .dataframe tbody tr th {\n",
              "        vertical-align: top;\n",
              "    }\n",
              "\n",
              "    .dataframe thead th {\n",
              "        text-align: right;\n",
              "    }\n",
              "</style>\n",
              "<table border=\"1\" class=\"dataframe\">\n",
              "  <thead>\n",
              "    <tr style=\"text-align: right;\">\n",
              "      <th></th>\n",
              "      <th>id</th>\n",
              "      <th>keyword</th>\n",
              "      <th>location</th>\n",
              "      <th>text</th>\n",
              "      <th>target</th>\n",
              "      <th>clean_text</th>\n",
              "      <th>clean_keyword</th>\n",
              "      <th>keyword_text</th>\n",
              "    </tr>\n",
              "  </thead>\n",
              "  <tbody>\n",
              "    <tr>\n",
              "      <th>0</th>\n",
              "      <td>1</td>\n",
              "      <td>none</td>\n",
              "      <td>NaN</td>\n",
              "      <td>Our Deeds are the Reason of this #earthquake M...</td>\n",
              "      <td>1</td>\n",
              "      <td>our deed reason earthquak may allah forgiv</td>\n",
              "      <td>none</td>\n",
              "      <td>none our deed reason earthquake may alla forgive</td>\n",
              "    </tr>\n",
              "    <tr>\n",
              "      <th>1</th>\n",
              "      <td>4</td>\n",
              "      <td>none</td>\n",
              "      <td>NaN</td>\n",
              "      <td>Forest fire near La Ronge Sask. Canada</td>\n",
              "      <td>1</td>\n",
              "      <td>forest fire near rong sask canada</td>\n",
              "      <td>none</td>\n",
              "      <td>none forest fire near song task canada</td>\n",
              "    </tr>\n",
              "    <tr>\n",
              "      <th>2</th>\n",
              "      <td>5</td>\n",
              "      <td>none</td>\n",
              "      <td>NaN</td>\n",
              "      <td>All residents asked to 'shelter in place' are ...</td>\n",
              "      <td>1</td>\n",
              "      <td>all resid ask shelter place notifi offic evacu...</td>\n",
              "      <td>none</td>\n",
              "      <td>none all revid ask shelter place notify office...</td>\n",
              "    </tr>\n",
              "    <tr>\n",
              "      <th>3</th>\n",
              "      <td>6</td>\n",
              "      <td>none</td>\n",
              "      <td>NaN</td>\n",
              "      <td>13,000 people receive #wildfires evacuation or...</td>\n",
              "      <td>1</td>\n",
              "      <td>peopl receiv wildfir evacu order california</td>\n",
              "      <td>none</td>\n",
              "      <td>none people receive wildfire evac order califo...</td>\n",
              "    </tr>\n",
              "    <tr>\n",
              "      <th>4</th>\n",
              "      <td>7</td>\n",
              "      <td>none</td>\n",
              "      <td>NaN</td>\n",
              "      <td>Just got sent this photo from Ruby #Alaska as ...</td>\n",
              "      <td>1</td>\n",
              "      <td>just get send photo rubi alaska smoke wildfir ...</td>\n",
              "      <td>none</td>\n",
              "      <td>none just get send photo rub alaska smoke wild...</td>\n",
              "    </tr>\n",
              "  </tbody>\n",
              "</table>\n",
              "</div>\n",
              "      <button class=\"colab-df-convert\" onclick=\"convertToInteractive('df-12a8f0d1-8f42-4586-8cb0-01e8860ca23f')\"\n",
              "              title=\"Convert this dataframe to an interactive table.\"\n",
              "              style=\"display:none;\">\n",
              "        \n",
              "  <svg xmlns=\"http://www.w3.org/2000/svg\" height=\"24px\"viewBox=\"0 0 24 24\"\n",
              "       width=\"24px\">\n",
              "    <path d=\"M0 0h24v24H0V0z\" fill=\"none\"/>\n",
              "    <path d=\"M18.56 5.44l.94 2.06.94-2.06 2.06-.94-2.06-.94-.94-2.06-.94 2.06-2.06.94zm-11 1L8.5 8.5l.94-2.06 2.06-.94-2.06-.94L8.5 2.5l-.94 2.06-2.06.94zm10 10l.94 2.06.94-2.06 2.06-.94-2.06-.94-.94-2.06-.94 2.06-2.06.94z\"/><path d=\"M17.41 7.96l-1.37-1.37c-.4-.4-.92-.59-1.43-.59-.52 0-1.04.2-1.43.59L10.3 9.45l-7.72 7.72c-.78.78-.78 2.05 0 2.83L4 21.41c.39.39.9.59 1.41.59.51 0 1.02-.2 1.41-.59l7.78-7.78 2.81-2.81c.8-.78.8-2.07 0-2.86zM5.41 20L4 18.59l7.72-7.72 1.47 1.35L5.41 20z\"/>\n",
              "  </svg>\n",
              "      </button>\n",
              "      \n",
              "  <style>\n",
              "    .colab-df-container {\n",
              "      display:flex;\n",
              "      flex-wrap:wrap;\n",
              "      gap: 12px;\n",
              "    }\n",
              "\n",
              "    .colab-df-convert {\n",
              "      background-color: #E8F0FE;\n",
              "      border: none;\n",
              "      border-radius: 50%;\n",
              "      cursor: pointer;\n",
              "      display: none;\n",
              "      fill: #1967D2;\n",
              "      height: 32px;\n",
              "      padding: 0 0 0 0;\n",
              "      width: 32px;\n",
              "    }\n",
              "\n",
              "    .colab-df-convert:hover {\n",
              "      background-color: #E2EBFA;\n",
              "      box-shadow: 0px 1px 2px rgba(60, 64, 67, 0.3), 0px 1px 3px 1px rgba(60, 64, 67, 0.15);\n",
              "      fill: #174EA6;\n",
              "    }\n",
              "\n",
              "    [theme=dark] .colab-df-convert {\n",
              "      background-color: #3B4455;\n",
              "      fill: #D2E3FC;\n",
              "    }\n",
              "\n",
              "    [theme=dark] .colab-df-convert:hover {\n",
              "      background-color: #434B5C;\n",
              "      box-shadow: 0px 1px 3px 1px rgba(0, 0, 0, 0.15);\n",
              "      filter: drop-shadow(0px 1px 2px rgba(0, 0, 0, 0.3));\n",
              "      fill: #FFFFFF;\n",
              "    }\n",
              "  </style>\n",
              "\n",
              "      <script>\n",
              "        const buttonEl =\n",
              "          document.querySelector('#df-12a8f0d1-8f42-4586-8cb0-01e8860ca23f button.colab-df-convert');\n",
              "        buttonEl.style.display =\n",
              "          google.colab.kernel.accessAllowed ? 'block' : 'none';\n",
              "\n",
              "        async function convertToInteractive(key) {\n",
              "          const element = document.querySelector('#df-12a8f0d1-8f42-4586-8cb0-01e8860ca23f');\n",
              "          const dataTable =\n",
              "            await google.colab.kernel.invokeFunction('convertToInteractive',\n",
              "                                                     [key], {});\n",
              "          if (!dataTable) return;\n",
              "\n",
              "          const docLinkHtml = 'Like what you see? Visit the ' +\n",
              "            '<a target=\"_blank\" href=https://colab.research.google.com/notebooks/data_table.ipynb>data table notebook</a>'\n",
              "            + ' to learn more about interactive tables.';\n",
              "          element.innerHTML = '';\n",
              "          dataTable['output_type'] = 'display_data';\n",
              "          await google.colab.output.renderOutput(dataTable, element);\n",
              "          const docLink = document.createElement('div');\n",
              "          docLink.innerHTML = docLinkHtml;\n",
              "          element.appendChild(docLink);\n",
              "        }\n",
              "      </script>\n",
              "    </div>\n",
              "  </div>\n",
              "  "
            ],
            "text/plain": [
              "   id keyword  ... clean_keyword                                       keyword_text\n",
              "0   1    none  ...          none   none our deed reason earthquake may alla forgive\n",
              "1   4    none  ...          none             none forest fire near song task canada\n",
              "2   5    none  ...          none  none all revid ask shelter place notify office...\n",
              "3   6    none  ...          none  none people receive wildfire evac order califo...\n",
              "4   7    none  ...          none  none just get send photo rub alaska smoke wild...\n",
              "\n",
              "[5 rows x 8 columns]"
            ]
          },
          "metadata": {},
          "execution_count": 90
        }
      ]
    },
    {
      "cell_type": "code",
      "source": [
        "test_df[:5]"
      ],
      "metadata": {
        "colab": {
          "base_uri": "https://localhost:8080/",
          "height": 206
        },
        "id": "1bumJAA2TK6A",
        "outputId": "fa2f7df4-37b3-4c29-93e8-fe49283675c5"
      },
      "execution_count": 91,
      "outputs": [
        {
          "output_type": "execute_result",
          "data": {
            "text/html": [
              "\n",
              "  <div id=\"df-5de0602b-d15b-42dc-b9bb-2789ebd70882\">\n",
              "    <div class=\"colab-df-container\">\n",
              "      <div>\n",
              "<style scoped>\n",
              "    .dataframe tbody tr th:only-of-type {\n",
              "        vertical-align: middle;\n",
              "    }\n",
              "\n",
              "    .dataframe tbody tr th {\n",
              "        vertical-align: top;\n",
              "    }\n",
              "\n",
              "    .dataframe thead th {\n",
              "        text-align: right;\n",
              "    }\n",
              "</style>\n",
              "<table border=\"1\" class=\"dataframe\">\n",
              "  <thead>\n",
              "    <tr style=\"text-align: right;\">\n",
              "      <th></th>\n",
              "      <th>id</th>\n",
              "      <th>keyword</th>\n",
              "      <th>location</th>\n",
              "      <th>text</th>\n",
              "      <th>clean_text</th>\n",
              "      <th>clean_keyword</th>\n",
              "      <th>keyword_text</th>\n",
              "    </tr>\n",
              "  </thead>\n",
              "  <tbody>\n",
              "    <tr>\n",
              "      <th>0</th>\n",
              "      <td>0</td>\n",
              "      <td>none</td>\n",
              "      <td>NaN</td>\n",
              "      <td>Just happened a terrible car crash</td>\n",
              "      <td>just happen terribl car crash</td>\n",
              "      <td>none</td>\n",
              "      <td>none just happen terrible car crash</td>\n",
              "    </tr>\n",
              "    <tr>\n",
              "      <th>1</th>\n",
              "      <td>2</td>\n",
              "      <td>none</td>\n",
              "      <td>NaN</td>\n",
              "      <td>Heard about #earthquake is different cities, s...</td>\n",
              "      <td>hear earthquak differ citi stay safe everyon</td>\n",
              "      <td>none</td>\n",
              "      <td>none hear earthquake differ city stay safe eve...</td>\n",
              "    </tr>\n",
              "    <tr>\n",
              "      <th>2</th>\n",
              "      <td>3</td>\n",
              "      <td>none</td>\n",
              "      <td>NaN</td>\n",
              "      <td>there is a forest fire at spot pond, geese are...</td>\n",
              "      <td>forest fire spot pond gee flee across street save</td>\n",
              "      <td>none</td>\n",
              "      <td>none forest fire spot pond gee flee across str...</td>\n",
              "    </tr>\n",
              "    <tr>\n",
              "      <th>3</th>\n",
              "      <td>9</td>\n",
              "      <td>none</td>\n",
              "      <td>NaN</td>\n",
              "      <td>Apocalypse lighting. #Spokane #wildfires</td>\n",
              "      <td>apocalyps light spokan wildfir</td>\n",
              "      <td>none</td>\n",
              "      <td>none apocalypse light spoken wildfire</td>\n",
              "    </tr>\n",
              "    <tr>\n",
              "      <th>4</th>\n",
              "      <td>11</td>\n",
              "      <td>none</td>\n",
              "      <td>NaN</td>\n",
              "      <td>Typhoon Soudelor kills 28 in China and Taiwan</td>\n",
              "      <td>typhoon soudelor kill china taiwan</td>\n",
              "      <td>none</td>\n",
              "      <td>none typhoon soudelor kill china taiwan</td>\n",
              "    </tr>\n",
              "  </tbody>\n",
              "</table>\n",
              "</div>\n",
              "      <button class=\"colab-df-convert\" onclick=\"convertToInteractive('df-5de0602b-d15b-42dc-b9bb-2789ebd70882')\"\n",
              "              title=\"Convert this dataframe to an interactive table.\"\n",
              "              style=\"display:none;\">\n",
              "        \n",
              "  <svg xmlns=\"http://www.w3.org/2000/svg\" height=\"24px\"viewBox=\"0 0 24 24\"\n",
              "       width=\"24px\">\n",
              "    <path d=\"M0 0h24v24H0V0z\" fill=\"none\"/>\n",
              "    <path d=\"M18.56 5.44l.94 2.06.94-2.06 2.06-.94-2.06-.94-.94-2.06-.94 2.06-2.06.94zm-11 1L8.5 8.5l.94-2.06 2.06-.94-2.06-.94L8.5 2.5l-.94 2.06-2.06.94zm10 10l.94 2.06.94-2.06 2.06-.94-2.06-.94-.94-2.06-.94 2.06-2.06.94z\"/><path d=\"M17.41 7.96l-1.37-1.37c-.4-.4-.92-.59-1.43-.59-.52 0-1.04.2-1.43.59L10.3 9.45l-7.72 7.72c-.78.78-.78 2.05 0 2.83L4 21.41c.39.39.9.59 1.41.59.51 0 1.02-.2 1.41-.59l7.78-7.78 2.81-2.81c.8-.78.8-2.07 0-2.86zM5.41 20L4 18.59l7.72-7.72 1.47 1.35L5.41 20z\"/>\n",
              "  </svg>\n",
              "      </button>\n",
              "      \n",
              "  <style>\n",
              "    .colab-df-container {\n",
              "      display:flex;\n",
              "      flex-wrap:wrap;\n",
              "      gap: 12px;\n",
              "    }\n",
              "\n",
              "    .colab-df-convert {\n",
              "      background-color: #E8F0FE;\n",
              "      border: none;\n",
              "      border-radius: 50%;\n",
              "      cursor: pointer;\n",
              "      display: none;\n",
              "      fill: #1967D2;\n",
              "      height: 32px;\n",
              "      padding: 0 0 0 0;\n",
              "      width: 32px;\n",
              "    }\n",
              "\n",
              "    .colab-df-convert:hover {\n",
              "      background-color: #E2EBFA;\n",
              "      box-shadow: 0px 1px 2px rgba(60, 64, 67, 0.3), 0px 1px 3px 1px rgba(60, 64, 67, 0.15);\n",
              "      fill: #174EA6;\n",
              "    }\n",
              "\n",
              "    [theme=dark] .colab-df-convert {\n",
              "      background-color: #3B4455;\n",
              "      fill: #D2E3FC;\n",
              "    }\n",
              "\n",
              "    [theme=dark] .colab-df-convert:hover {\n",
              "      background-color: #434B5C;\n",
              "      box-shadow: 0px 1px 3px 1px rgba(0, 0, 0, 0.15);\n",
              "      filter: drop-shadow(0px 1px 2px rgba(0, 0, 0, 0.3));\n",
              "      fill: #FFFFFF;\n",
              "    }\n",
              "  </style>\n",
              "\n",
              "      <script>\n",
              "        const buttonEl =\n",
              "          document.querySelector('#df-5de0602b-d15b-42dc-b9bb-2789ebd70882 button.colab-df-convert');\n",
              "        buttonEl.style.display =\n",
              "          google.colab.kernel.accessAllowed ? 'block' : 'none';\n",
              "\n",
              "        async function convertToInteractive(key) {\n",
              "          const element = document.querySelector('#df-5de0602b-d15b-42dc-b9bb-2789ebd70882');\n",
              "          const dataTable =\n",
              "            await google.colab.kernel.invokeFunction('convertToInteractive',\n",
              "                                                     [key], {});\n",
              "          if (!dataTable) return;\n",
              "\n",
              "          const docLinkHtml = 'Like what you see? Visit the ' +\n",
              "            '<a target=\"_blank\" href=https://colab.research.google.com/notebooks/data_table.ipynb>data table notebook</a>'\n",
              "            + ' to learn more about interactive tables.';\n",
              "          element.innerHTML = '';\n",
              "          dataTable['output_type'] = 'display_data';\n",
              "          await google.colab.output.renderOutput(dataTable, element);\n",
              "          const docLink = document.createElement('div');\n",
              "          docLink.innerHTML = docLinkHtml;\n",
              "          element.appendChild(docLink);\n",
              "        }\n",
              "      </script>\n",
              "    </div>\n",
              "  </div>\n",
              "  "
            ],
            "text/plain": [
              "   id keyword  ... clean_keyword                                       keyword_text\n",
              "0   0    none  ...          none                none just happen terrible car crash\n",
              "1   2    none  ...          none  none hear earthquake differ city stay safe eve...\n",
              "2   3    none  ...          none  none forest fire spot pond gee flee across str...\n",
              "3   9    none  ...          none              none apocalypse light spoken wildfire\n",
              "4  11    none  ...          none            none typhoon soudelor kill china taiwan\n",
              "\n",
              "[5 rows x 7 columns]"
            ]
          },
          "metadata": {},
          "execution_count": 91
        }
      ]
    },
    {
      "cell_type": "code",
      "source": [
        "feature = 'keyword_text'\n",
        "label = \"target\"\n",
        "\n",
        "# split train and validation\n",
        "X_train, X_val, y_train, y_val = train_test_split(train_df[feature],\n",
        "                                                   train_df[label],\n",
        "                                                   test_size=0.2,\n",
        "                                                   random_state=0, \n",
        "                                                   shuffle=True)\n",
        "# test set\n",
        "X_test = test_df[feature]"
      ],
      "metadata": {
        "id": "wBBejHcXQGuy"
      },
      "execution_count": 92,
      "outputs": []
    },
    {
      "cell_type": "markdown",
      "source": [
        "## Tokenizing"
      ],
      "metadata": {
        "id": "1OTEKymzfkHy"
      }
    },
    {
      "cell_type": "code",
      "source": [
        "# Tokenize train data\n",
        "tokenizer = Tokenizer(oov_token='<OOV>')\n",
        "tokenizer.fit_on_texts(X_train)"
      ],
      "metadata": {
        "id": "F8icqFmCflUT"
      },
      "execution_count": 93,
      "outputs": []
    },
    {
      "cell_type": "code",
      "source": [
        "word_index = tokenizer.word_index\n",
        "print(dict(islice(word_index.items(),10)))\n",
        "print('Found %s unique tokens.' % len(word_index))\n",
        "vocab_size = len(word_index) + 1\n",
        "print(\"Vocabulary Size: \", vocab_size)"
      ],
      "metadata": {
        "colab": {
          "base_uri": "https://localhost:8080/"
        },
        "id": "TVAWJWFzfomu",
        "outputId": "6bdd5c52-78a4-4ad2-ec40-022f8dba9a88"
      },
      "execution_count": 94,
      "outputs": [
        {
          "output_type": "stream",
          "name": "stdout",
          "text": [
            "{'<OOV>': 1, 'the': 2, 'fire': 3, 'get': 4, 'bomb': 5, 'like': 6, 'amp': 7, 'burn': 8, 'emerge': 9, 'flood': 10}\n",
            "Found 9790 unique tokens.\n",
            "Vocabulary Size:  9791\n"
          ]
        }
      ]
    },
    {
      "cell_type": "code",
      "source": [
        "sequences = tokenizer.texts_to_sequences(X_train)\n",
        "print(sequences[0])"
      ],
      "metadata": {
        "colab": {
          "base_uri": "https://localhost:8080/"
        },
        "id": "IazUYn3tfq9A",
        "outputId": "5ef921be-1c64-4ec0-f4b1-a67995f84f1e"
      },
      "execution_count": 95,
      "outputs": [
        {
          "output_type": "stream",
          "name": "stdout",
          "text": [
            "[332, 3, 1746, 1267, 3, 92, 1268, 7, 332, 2432, 388, 1166, 6, 1268, 7, 2433, 44]\n"
          ]
        }
      ]
    },
    {
      "cell_type": "code",
      "source": [
        "data = pad_sequences(sequences)\n",
        "MAX_SEQUENCE_LENGTH = data.shape[1]\n",
        "print(MAX_SEQUENCE_LENGTH)"
      ],
      "metadata": {
        "colab": {
          "base_uri": "https://localhost:8080/"
        },
        "id": "2WZMdmuihEk5",
        "outputId": "89f3aea7-7a4f-410b-9f07-2ed965920f40"
      },
      "execution_count": 96,
      "outputs": [
        {
          "output_type": "stream",
          "name": "stdout",
          "text": [
            "22\n"
          ]
        }
      ]
    },
    {
      "cell_type": "code",
      "source": [
        "# Pad train and test \n",
        "X_train_padded = pad_sequences(tokenizer.texts_to_sequences(X_train), maxlen=MAX_SEQUENCE_LENGTH)\n",
        "X_val_padded = pad_sequences(tokenizer.texts_to_sequences(X_val), maxlen=MAX_SEQUENCE_LENGTH)\n",
        "X_test_padded = pad_sequences(tokenizer.texts_to_sequences(X_test), maxlen=MAX_SEQUENCE_LENGTH)\n",
        "\n",
        "print(\"Training X shape: \", X_train_padded.shape)\n",
        "print(\"Training X shape: \", X_val_padded.shape)\n",
        "print(\"Testing X shape: \", X_test_padded.shape)"
      ],
      "metadata": {
        "colab": {
          "base_uri": "https://localhost:8080/"
        },
        "id": "V0_0-Dxefsm-",
        "outputId": "dd9d8ba4-a00e-4aab-e464-83bd52fca37b"
      },
      "execution_count": 97,
      "outputs": [
        {
          "output_type": "stream",
          "name": "stdout",
          "text": [
            "Training X shape:  (6090, 22)\n",
            "Training X shape:  (1523, 22)\n",
            "Testing X shape:  (3263, 22)\n"
          ]
        }
      ]
    },
    {
      "cell_type": "markdown",
      "source": [
        "## Word Embedding\n",
        "\n",
        "### GloVe\n",
        "Word2Vec과 LSA의 단점을 해소한 임베딩 방법론"
      ],
      "metadata": {
        "id": "GmZ-q5AcIh4J"
      }
    },
    {
      "cell_type": "code",
      "source": [
        "path_to_glove_file = './glove.twitter.27B.200d.txt'"
      ],
      "metadata": {
        "id": "YPoa3rApfLVC"
      },
      "execution_count": 98,
      "outputs": []
    },
    {
      "cell_type": "code",
      "source": [
        "# Read word embeddings\n",
        "embeddings_index = {}\n",
        "with open(path_to_glove_file) as f:\n",
        "    for line in f:\n",
        "        word, coefs = line.split(maxsplit=1)\n",
        "        coefs = np.fromstring(coefs, \"f\", sep=\" \")\n",
        "        embeddings_index[word] = coefs\n",
        "\n",
        "print(\"\\nFound %s word vectors.\" % len(embeddings_index))"
      ],
      "metadata": {
        "colab": {
          "base_uri": "https://localhost:8080/"
        },
        "id": "9kFpoAB6fGVf",
        "outputId": "1449f890-6afb-4ccf-a87d-f4fef639e11c"
      },
      "execution_count": 99,
      "outputs": [
        {
          "output_type": "stream",
          "name": "stdout",
          "text": [
            "\n",
            "Found 1193514 word vectors.\n"
          ]
        }
      ]
    },
    {
      "cell_type": "code",
      "source": [
        "embedding_dim = 200\n",
        "\n",
        "embedding_matrix = np.zeros((vocab_size, embedding_dim))\n",
        "for word, i in word_index.items():\n",
        "    embedding_vector = embeddings_index.get(word)\n",
        "    if embedding_vector is not None:\n",
        "        #words not found in embedding index will be all-zeros.\n",
        "        embedding_matrix[i] = embedding_vector\n",
        "        \n",
        "print(\"Our embedded matrix is of dimension\", embedding_matrix.shape)"
      ],
      "metadata": {
        "colab": {
          "base_uri": "https://localhost:8080/"
        },
        "id": "FqUUpp6zfeH6",
        "outputId": "8fd6c704-f138-41a4-f9d9-ef9455e7fe64"
      },
      "execution_count": 100,
      "outputs": [
        {
          "output_type": "stream",
          "name": "stdout",
          "text": [
            "Our embedded matrix is of dimension (9791, 200)\n"
          ]
        }
      ]
    },
    {
      "cell_type": "markdown",
      "source": [
        "### LSTM"
      ],
      "metadata": {
        "id": "izRYVxoukXQ9"
      }
    },
    {
      "cell_type": "code",
      "source": [
        "# Define some hyperparameters\n",
        "learning_rate = 1e-4\n",
        "batch_size = 1024\n",
        "epochs = 100"
      ],
      "metadata": {
        "id": "32tRKgB_lEG6"
      },
      "execution_count": 101,
      "outputs": []
    },
    {
      "cell_type": "code",
      "source": [
        "# Define train and test labels\n",
        "y_train_LSTM = y_train.values.reshape(-1,1)\n",
        "y_val_LSTM = y_val.values.reshape(-1,1)\n",
        "\n",
        "print(\"Training Y shape:\", y_train_LSTM.shape)\n",
        "print(\"Evaluating Y shape:\", y_val_LSTM.shape)"
      ],
      "metadata": {
        "colab": {
          "base_uri": "https://localhost:8080/"
        },
        "id": "W-elN_vSXlso",
        "outputId": "5470c6a3-bdc7-43ef-ff16-055a748d378f"
      },
      "execution_count": 102,
      "outputs": [
        {
          "output_type": "stream",
          "name": "stdout",
          "text": [
            "Training Y shape: (6090, 1)\n",
            "Evaluating Y shape: (1523, 1)\n"
          ]
        }
      ]
    },
    {
      "cell_type": "code",
      "source": [
        "# Define embedding layer in Keras\n",
        "embedding_layer = tf.keras.layers.Embedding(vocab_size,\n",
        "                                            embedding_dim,\n",
        "                                            weights=[embedding_matrix],\n",
        "                                            input_length=MAX_SEQUENCE_LENGTH,\n",
        "                                            trainable=False)"
      ],
      "metadata": {
        "id": "uYQDZ3sETslO"
      },
      "execution_count": 103,
      "outputs": []
    },
    {
      "cell_type": "code",
      "source": [
        "# Define model architecture\n",
        "sequence_input = tf.keras.layers.Input(shape=(MAX_SEQUENCE_LENGTH, ), dtype='int32')\n",
        "embedding_sequences = embedding_layer(sequence_input)\n",
        "\n",
        "x = Conv1D(128, 5, activation='relu')(embedding_sequences)\n",
        "x = Bidirectional(LSTM(128, dropout=0.5, recurrent_dropout=0.2))(x)\n",
        "x = Dense(512, activation='relu')(x)\n",
        "x = Dropout(0.5)(x)\n",
        "x = Dense(512, activation='relu')(x)\n",
        "outputs = Dense(1, activation='sigmoid')(x)\n",
        "model = Model(sequence_input, outputs)\n",
        "model.summary()"
      ],
      "metadata": {
        "colab": {
          "base_uri": "https://localhost:8080/"
        },
        "id": "85iqwgMpmWdx",
        "outputId": "f448940a-0a17-4591-83f6-a0ead56afb74"
      },
      "execution_count": 104,
      "outputs": [
        {
          "output_type": "stream",
          "name": "stdout",
          "text": [
            "Model: \"model_1\"\n",
            "_________________________________________________________________\n",
            " Layer (type)                Output Shape              Param #   \n",
            "=================================================================\n",
            " input_2 (InputLayer)        [(None, 22)]              0         \n",
            "                                                                 \n",
            " embedding_1 (Embedding)     (None, 22, 200)           1958200   \n",
            "                                                                 \n",
            " conv1d_1 (Conv1D)           (None, 18, 128)           128128    \n",
            "                                                                 \n",
            " bidirectional_1 (Bidirectio  (None, 256)              263168    \n",
            " nal)                                                            \n",
            "                                                                 \n",
            " dense_3 (Dense)             (None, 512)               131584    \n",
            "                                                                 \n",
            " dropout_1 (Dropout)         (None, 512)               0         \n",
            "                                                                 \n",
            " dense_4 (Dense)             (None, 512)               262656    \n",
            "                                                                 \n",
            " dense_5 (Dense)             (None, 1)                 513       \n",
            "                                                                 \n",
            "=================================================================\n",
            "Total params: 2,744,249\n",
            "Trainable params: 786,049\n",
            "Non-trainable params: 1,958,200\n",
            "_________________________________________________________________\n"
          ]
        }
      ]
    },
    {
      "cell_type": "code",
      "source": [
        "tf.keras.utils.plot_model(model)"
      ],
      "metadata": {
        "colab": {
          "base_uri": "https://localhost:8080/",
          "height": 758
        },
        "id": "pHzREubUdFAt",
        "outputId": "c0f926b4-7678-4ffa-9698-e8ea98729b59"
      },
      "execution_count": 105,
      "outputs": [
        {
          "output_type": "execute_result",
          "data": {
            "image/png": "[encoded data removed]",
            "text/plain": [
              "<IPython.core.display.Image object>"
            ]
          },
          "metadata": {},
          "execution_count": 105
        }
      ]
    },
    {
      "cell_type": "code",
      "source": [
        "# Optimize the model\n",
        "model.compile(optimizer=tf.keras.optimizers.Adam(learning_rate=learning_rate), loss='binary_crossentropy', metrics=['accuracy'])"
      ],
      "metadata": {
        "id": "4ntf7p5emZC3"
      },
      "execution_count": 106,
      "outputs": []
    },
    {
      "cell_type": "code",
      "source": [
        "checkpoint_cb = tf.keras.callbacks.ModelCheckpoint('best-lstm-model.h5')\n",
        "early_stopping_cb = tf.keras.callbacks.EarlyStopping(patience=2, restore_best_weights=True)"
      ],
      "metadata": {
        "id": "7lP99SSCmv-F"
      },
      "execution_count": 107,
      "outputs": []
    },
    {
      "cell_type": "code",
      "source": [
        "# Train the LSTM Model\n",
        "history = model.fit(X_train_padded,\n",
        "                    y_train_LSTM,\n",
        "                    batch_size=batch_size,\n",
        "                    epochs=epochs, \n",
        "                    validation_data=(X_val_padded, y_val_LSTM),\n",
        "                    callbacks=[checkpoint_cb, early_stopping_cb])"
      ],
      "metadata": {
        "colab": {
          "base_uri": "https://localhost:8080/"
        },
        "id": "upT9scfPmb12",
        "outputId": "d3a18e07-db82-4efd-fcd3-1d8ac970e2d1"
      },
      "execution_count": 108,
      "outputs": [
        {
          "output_type": "stream",
          "name": "stdout",
          "text": [
            "Epoch 1/100\n",
            "6/6 [==============================] - 17s 2s/step - loss: 0.6885 - accuracy: 0.5501 - val_loss: 0.6775 - val_accuracy: 0.5817\n",
            "Epoch 2/100\n",
            "6/6 [==============================] - 9s 1s/step - loss: 0.6783 - accuracy: 0.5711 - val_loss: 0.6644 - val_accuracy: 0.5824\n",
            "Epoch 3/100\n",
            "6/6 [==============================] - 9s 1s/step - loss: 0.6663 - accuracy: 0.5803 - val_loss: 0.6459 - val_accuracy: 0.6244\n",
            "Epoch 4/100\n",
            "6/6 [==============================] - 9s 2s/step - loss: 0.6484 - accuracy: 0.6443 - val_loss: 0.6181 - val_accuracy: 0.7177\n",
            "Epoch 5/100\n",
            "6/6 [==============================] - 9s 1s/step - loss: 0.6193 - accuracy: 0.7212 - val_loss: 0.5795 - val_accuracy: 0.7492\n",
            "Epoch 6/100\n",
            "6/6 [==============================] - 9s 2s/step - loss: 0.5804 - accuracy: 0.7494 - val_loss: 0.5389 - val_accuracy: 0.7505\n",
            "Epoch 7/100\n",
            "6/6 [==============================] - 9s 1s/step - loss: 0.5422 - accuracy: 0.7558 - val_loss: 0.5200 - val_accuracy: 0.7505\n",
            "Epoch 8/100\n",
            "6/6 [==============================] - 9s 1s/step - loss: 0.5148 - accuracy: 0.7606 - val_loss: 0.5213 - val_accuracy: 0.7557\n",
            "Epoch 9/100\n",
            "6/6 [==============================] - 9s 1s/step - loss: 0.5059 - accuracy: 0.7716 - val_loss: 0.5137 - val_accuracy: 0.7557\n",
            "Epoch 10/100\n",
            "6/6 [==============================] - 9s 1s/step - loss: 0.4943 - accuracy: 0.7782 - val_loss: 0.4978 - val_accuracy: 0.7748\n",
            "Epoch 11/100\n",
            "6/6 [==============================] - 9s 1s/step - loss: 0.4842 - accuracy: 0.7823 - val_loss: 0.4860 - val_accuracy: 0.7761\n",
            "Epoch 12/100\n",
            "6/6 [==============================] - 9s 1s/step - loss: 0.4766 - accuracy: 0.7869 - val_loss: 0.4813 - val_accuracy: 0.7787\n",
            "Epoch 13/100\n",
            "6/6 [==============================] - 9s 2s/step - loss: 0.4726 - accuracy: 0.7854 - val_loss: 0.4773 - val_accuracy: 0.7768\n",
            "Epoch 14/100\n",
            "6/6 [==============================] - 9s 1s/step - loss: 0.4652 - accuracy: 0.7924 - val_loss: 0.4770 - val_accuracy: 0.7846\n",
            "Epoch 15/100\n",
            "6/6 [==============================] - 9s 1s/step - loss: 0.4591 - accuracy: 0.7952 - val_loss: 0.4729 - val_accuracy: 0.7800\n",
            "Epoch 16/100\n",
            "6/6 [==============================] - 9s 1s/step - loss: 0.4520 - accuracy: 0.7954 - val_loss: 0.4704 - val_accuracy: 0.7800\n",
            "Epoch 17/100\n",
            "6/6 [==============================] - 9s 1s/step - loss: 0.4506 - accuracy: 0.8010 - val_loss: 0.4685 - val_accuracy: 0.7794\n",
            "Epoch 18/100\n",
            "6/6 [==============================] - 9s 1s/step - loss: 0.4404 - accuracy: 0.8031 - val_loss: 0.4654 - val_accuracy: 0.7800\n",
            "Epoch 19/100\n",
            "6/6 [==============================] - 9s 1s/step - loss: 0.4384 - accuracy: 0.8021 - val_loss: 0.4644 - val_accuracy: 0.7827\n",
            "Epoch 20/100\n",
            "6/6 [==============================] - 9s 1s/step - loss: 0.4331 - accuracy: 0.8097 - val_loss: 0.4614 - val_accuracy: 0.7827\n",
            "Epoch 21/100\n",
            "6/6 [==============================] - 9s 1s/step - loss: 0.4298 - accuracy: 0.8074 - val_loss: 0.4598 - val_accuracy: 0.7833\n",
            "Epoch 22/100\n",
            "6/6 [==============================] - 9s 2s/step - loss: 0.4208 - accuracy: 0.8113 - val_loss: 0.4600 - val_accuracy: 0.7886\n",
            "Epoch 23/100\n",
            "6/6 [==============================] - 9s 1s/step - loss: 0.4172 - accuracy: 0.8189 - val_loss: 0.4590 - val_accuracy: 0.7886\n",
            "Epoch 24/100\n",
            "6/6 [==============================] - 9s 2s/step - loss: 0.4142 - accuracy: 0.8177 - val_loss: 0.4574 - val_accuracy: 0.7912\n",
            "Epoch 25/100\n",
            "6/6 [==============================] - 9s 2s/step - loss: 0.4111 - accuracy: 0.8190 - val_loss: 0.4612 - val_accuracy: 0.7932\n",
            "Epoch 26/100\n",
            "6/6 [==============================] - 9s 1s/step - loss: 0.4068 - accuracy: 0.8232 - val_loss: 0.4535 - val_accuracy: 0.7965\n",
            "Epoch 27/100\n",
            "6/6 [==============================] - 9s 1s/step - loss: 0.4048 - accuracy: 0.8212 - val_loss: 0.4566 - val_accuracy: 0.7919\n",
            "Epoch 28/100\n",
            "6/6 [==============================] - 9s 1s/step - loss: 0.3947 - accuracy: 0.8297 - val_loss: 0.4586 - val_accuracy: 0.7912\n"
          ]
        }
      ]
    },
    {
      "cell_type": "code",
      "source": [
        "plt.plot(history.history['loss'])\n",
        "plt.plot(history.history['val_loss'])\n",
        "plt.xlabel('epoch')\n",
        "plt.ylabel('loss')\n",
        "plt.suptitle(\"Train Loss vs Validation Loss\")\n",
        "plt.legend(['train', 'val'])\n",
        "plt.show()"
      ],
      "metadata": {
        "colab": {
          "base_uri": "https://localhost:8080/",
          "height": 308
        },
        "id": "wpMVfEgcmh9w",
        "outputId": "6a4dc1a3-219b-43bc-d8f3-7586868d0e8e"
      },
      "execution_count": 109,
      "outputs": [
        {
          "output_type": "display_data",
          "data": {
            "image/png": "[encoded data removed]",
            "text/plain": [
              "<Figure size 432x288 with 1 Axes>"
            ]
          },
          "metadata": {
            "needs_background": "light"
          }
        }
      ]
    },
    {
      "cell_type": "code",
      "source": [
        "model = tf.keras.models.load_model('best-lstm-model.h5')"
      ],
      "metadata": {
        "id": "aTPECmJaVxpu"
      },
      "execution_count": 110,
      "outputs": []
    },
    {
      "cell_type": "code",
      "source": [
        "sample_submission = pd.read_csv(\"./sample_submission.csv\")\n",
        "predictions = model.predict(X_test_padded)\n",
        "threshold = 0.6\n",
        "sample_submission[\"target\"] = (predictions[:,0] > threshold).astype(np.int)"
      ],
      "metadata": {
        "id": "xpNwIKRen4U7"
      },
      "execution_count": 114,
      "outputs": []
    },
    {
      "cell_type": "code",
      "source": [
        "sample_submission.to_csv('./submission.csv', index=False)\n",
        "sample_submission"
      ],
      "metadata": {
        "colab": {
          "base_uri": "https://localhost:8080/",
          "height": 424
        },
        "id": "FL15lEXjfDyp",
        "outputId": "b6884a1c-d89b-488c-a284-4ad3704c26b3"
      },
      "execution_count": 115,
      "outputs": [
        {
          "output_type": "execute_result",
          "data": {
            "text/html": [
              "\n",
              "  <div id=\"df-dd057a18-f977-4020-a42c-ebb1191af75c\">\n",
              "    <div class=\"colab-df-container\">\n",
              "      <div>\n",
              "<style scoped>\n",
              "    .dataframe tbody tr th:only-of-type {\n",
              "        vertical-align: middle;\n",
              "    }\n",
              "\n",
              "    .dataframe tbody tr th {\n",
              "        vertical-align: top;\n",
              "    }\n",
              "\n",
              "    .dataframe thead th {\n",
              "        text-align: right;\n",
              "    }\n",
              "</style>\n",
              "<table border=\"1\" class=\"dataframe\">\n",
              "  <thead>\n",
              "    <tr style=\"text-align: right;\">\n",
              "      <th></th>\n",
              "      <th>id</th>\n",
              "      <th>target</th>\n",
              "    </tr>\n",
              "  </thead>\n",
              "  <tbody>\n",
              "    <tr>\n",
              "      <th>0</th>\n",
              "      <td>0</td>\n",
              "      <td>0</td>\n",
              "    </tr>\n",
              "    <tr>\n",
              "      <th>1</th>\n",
              "      <td>2</td>\n",
              "      <td>1</td>\n",
              "    </tr>\n",
              "    <tr>\n",
              "      <th>2</th>\n",
              "      <td>3</td>\n",
              "      <td>1</td>\n",
              "    </tr>\n",
              "    <tr>\n",
              "      <th>3</th>\n",
              "      <td>9</td>\n",
              "      <td>0</td>\n",
              "    </tr>\n",
              "    <tr>\n",
              "      <th>4</th>\n",
              "      <td>11</td>\n",
              "      <td>1</td>\n",
              "    </tr>\n",
              "    <tr>\n",
              "      <th>...</th>\n",
              "      <td>...</td>\n",
              "      <td>...</td>\n",
              "    </tr>\n",
              "    <tr>\n",
              "      <th>3258</th>\n",
              "      <td>10861</td>\n",
              "      <td>0</td>\n",
              "    </tr>\n",
              "    <tr>\n",
              "      <th>3259</th>\n",
              "      <td>10865</td>\n",
              "      <td>1</td>\n",
              "    </tr>\n",
              "    <tr>\n",
              "      <th>3260</th>\n",
              "      <td>10868</td>\n",
              "      <td>0</td>\n",
              "    </tr>\n",
              "    <tr>\n",
              "      <th>3261</th>\n",
              "      <td>10874</td>\n",
              "      <td>0</td>\n",
              "    </tr>\n",
              "    <tr>\n",
              "      <th>3262</th>\n",
              "      <td>10875</td>\n",
              "      <td>0</td>\n",
              "    </tr>\n",
              "  </tbody>\n",
              "</table>\n",
              "<p>3263 rows × 2 columns</p>\n",
              "</div>\n",
              "      <button class=\"colab-df-convert\" onclick=\"convertToInteractive('df-dd057a18-f977-4020-a42c-ebb1191af75c')\"\n",
              "              title=\"Convert this dataframe to an interactive table.\"\n",
              "              style=\"display:none;\">\n",
              "        \n",
              "  <svg xmlns=\"http://www.w3.org/2000/svg\" height=\"24px\"viewBox=\"0 0 24 24\"\n",
              "       width=\"24px\">\n",
              "    <path d=\"M0 0h24v24H0V0z\" fill=\"none\"/>\n",
              "    <path d=\"M18.56 5.44l.94 2.06.94-2.06 2.06-.94-2.06-.94-.94-2.06-.94 2.06-2.06.94zm-11 1L8.5 8.5l.94-2.06 2.06-.94-2.06-.94L8.5 2.5l-.94 2.06-2.06.94zm10 10l.94 2.06.94-2.06 2.06-.94-2.06-.94-.94-2.06-.94 2.06-2.06.94z\"/><path d=\"M17.41 7.96l-1.37-1.37c-.4-.4-.92-.59-1.43-.59-.52 0-1.04.2-1.43.59L10.3 9.45l-7.72 7.72c-.78.78-.78 2.05 0 2.83L4 21.41c.39.39.9.59 1.41.59.51 0 1.02-.2 1.41-.59l7.78-7.78 2.81-2.81c.8-.78.8-2.07 0-2.86zM5.41 20L4 18.59l7.72-7.72 1.47 1.35L5.41 20z\"/>\n",
              "  </svg>\n",
              "      </button>\n",
              "      \n",
              "  <style>\n",
              "    .colab-df-container {\n",
              "      display:flex;\n",
              "      flex-wrap:wrap;\n",
              "      gap: 12px;\n",
              "    }\n",
              "\n",
              "    .colab-df-convert {\n",
              "      background-color: #E8F0FE;\n",
              "      border: none;\n",
              "      border-radius: 50%;\n",
              "      cursor: pointer;\n",
              "      display: none;\n",
              "      fill: #1967D2;\n",
              "      height: 32px;\n",
              "      padding: 0 0 0 0;\n",
              "      width: 32px;\n",
              "    }\n",
              "\n",
              "    .colab-df-convert:hover {\n",
              "      background-color: #E2EBFA;\n",
              "      box-shadow: 0px 1px 2px rgba(60, 64, 67, 0.3), 0px 1px 3px 1px rgba(60, 64, 67, 0.15);\n",
              "      fill: #174EA6;\n",
              "    }\n",
              "\n",
              "    [theme=dark] .colab-df-convert {\n",
              "      background-color: #3B4455;\n",
              "      fill: #D2E3FC;\n",
              "    }\n",
              "\n",
              "    [theme=dark] .colab-df-convert:hover {\n",
              "      background-color: #434B5C;\n",
              "      box-shadow: 0px 1px 3px 1px rgba(0, 0, 0, 0.15);\n",
              "      filter: drop-shadow(0px 1px 2px rgba(0, 0, 0, 0.3));\n",
              "      fill: #FFFFFF;\n",
              "    }\n",
              "  </style>\n",
              "\n",
              "      <script>\n",
              "        const buttonEl =\n",
              "          document.querySelector('#df-dd057a18-f977-4020-a42c-ebb1191af75c button.colab-df-convert');\n",
              "        buttonEl.style.display =\n",
              "          google.colab.kernel.accessAllowed ? 'block' : 'none';\n",
              "\n",
              "        async function convertToInteractive(key) {\n",
              "          const element = document.querySelector('#df-dd057a18-f977-4020-a42c-ebb1191af75c');\n",
              "          const dataTable =\n",
              "            await google.colab.kernel.invokeFunction('convertToInteractive',\n",
              "                                                     [key], {});\n",
              "          if (!dataTable) return;\n",
              "\n",
              "          const docLinkHtml = 'Like what you see? Visit the ' +\n",
              "            '<a target=\"_blank\" href=https://colab.research.google.com/notebooks/data_table.ipynb>data table notebook</a>'\n",
              "            + ' to learn more about interactive tables.';\n",
              "          element.innerHTML = '';\n",
              "          dataTable['output_type'] = 'display_data';\n",
              "          await google.colab.output.renderOutput(dataTable, element);\n",
              "          const docLink = document.createElement('div');\n",
              "          docLink.innerHTML = docLinkHtml;\n",
              "          element.appendChild(docLink);\n",
              "        }\n",
              "      </script>\n",
              "    </div>\n",
              "  </div>\n",
              "  "
            ],
            "text/plain": [
              "         id  target\n",
              "0         0       0\n",
              "1         2       1\n",
              "2         3       1\n",
              "3         9       0\n",
              "4        11       1\n",
              "...     ...     ...\n",
              "3258  10861       0\n",
              "3259  10865       1\n",
              "3260  10868       0\n",
              "3261  10874       0\n",
              "3262  10875       0\n",
              "\n",
              "[3263 rows x 2 columns]"
            ]
          },
          "metadata": {},
          "execution_count": 115
        }
      ]
    },
    {
      "cell_type": "code",
      "source": [
        "!kaggle competitions submit -c nlp-getting-started -f submission.csv -m \"Using ConvLSTM, with spell check, threshold 0.6\""
      ],
      "metadata": {
        "id": "lKbUi6Q01LCP",
        "colab": {
          "base_uri": "https://localhost:8080/"
        },
        "outputId": "d51f3ec5-71f2-4dab-c5c0-096faba589ff"
      },
      "execution_count": 117,
      "outputs": [
        {
          "output_type": "stream",
          "name": "stdout",
          "text": [
            "100% 22.2k/22.2k [00:00<00:00, 68.9kB/s]\n",
            "Successfully submitted to Natural Language Processing with Disaster Tweets"
          ]
        }
      ]
    },
    {
      "cell_type": "markdown",
      "source": [
        "## Results"
      ],
      "metadata": {
        "id": "eJ99pMbSoVD6"
      }
    },
    {
      "cell_type": "markdown",
      "source": [
        "![image](https://user-images.githubusercontent.com/76294398/149789993-481418cc-dc4f-40e6-bff4-2d872f14b613.png)\n"
      ],
      "metadata": {
        "id": "Mh7xds0FfVP3"
      }
    },
    {
      "cell_type": "markdown",
      "source": [
        "## References."
      ],
      "metadata": {
        "id": "_NSBkmm3okA-"
      }
    },
    {
      "cell_type": "markdown",
      "source": [
        "1. Convolutional Neural Networks for Sentence Classification (Kim et al. EMNLP 2014)\n",
        "> https://paperswithcode.com/paper/convolutional-neural-networks-for-sentence\n",
        "\n",
        "2. Twitter (2B tweets, 27B tokens, 1.2M vocab, uncased, 25d, 50d, 100d, & 200d vectors, 1.42 GB download)\n",
        "> [glove.twitter.27B.zip](https://nlp.stanford.edu/data/glove.twitter.27B.zip)\n",
        "\n",
        "3. Petumm.Inc: Embeddings: A Matrix of Meaning\n",
        "> https://petuum.medium.com/embeddings-a-matrix-of-meaning-4de877c9aa27\n",
        "\n",
        "4. Sai Teja: Stop Words in NLP\n",
        "> https://medium.com/@saitejaponugoti/stop-words-in-nlp-5b248dadad47\n",
        "\n",
        "5. 파이썬 정규표현식(re) 사용법 - 05. 주석, 치환, 분리\n",
        "> https://greeksharifa.github.io/%EC%A0%95%EA%B7%9C%ED%91%9C%ED%98%84%EC%8B%9D(re)/2018/08/04/regex-usage-05-intermediate/#resubpattern-repl-string-count-flags\n",
        "\n",
        "6. TensorFlow Org.: tf.keras.layers.Conv1D \n",
        "> https://www.tensorflow.org/api_docs/python/tf/keras/layers/Conv1D\n"
      ],
      "metadata": {
        "id": "Gt4kC-uLolXb"
      }
    },
    {
      "cell_type": "code",
      "source": [
        ""
      ],
      "metadata": {
        "id": "AdxTo9bMnXnI"
      },
      "execution_count": null,
      "outputs": []
    }
  ]
}