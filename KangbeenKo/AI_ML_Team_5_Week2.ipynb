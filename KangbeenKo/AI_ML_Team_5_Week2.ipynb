{
  "nbformat": 4,
  "nbformat_minor": 0,
  "metadata": {
    "colab": {
      "name": "AI-ML_Team_5_Week2.ipynb",
      "provenance": [],
      "collapsed_sections": []
    },
    "kernelspec": {
      "name": "python3",
      "display_name": "Python 3"
    },
    "language_info": {
      "name": "python"
    }
  },
  "cells": [
    {
      "cell_type": "markdown",
      "metadata": {
        "id": "EzblU7mbPI1e"
      },
      "source": [
        "# Natural Language Processing: Week 2 - Word Embeddings\n",
        "\n",
        "워드 임베딩(Word Embedding)은 단어를 벡터로 표현하는 방법으로, One-Hot 형태의 Sparse Vector가 아닌 Dense Vector 형태로 나타내는 과정이다.\n",
        "\n",
        "이 밀집 벡터를 워드 임베딩 과정을 통해 나온 결과라고 하여 임베딩 벡터(embedding vector)라고도 한다.\n",
        "\n"
      ]
    },
    {
      "cell_type": "markdown",
      "metadata": {
        "id": "85djYGbaQj9Z"
      },
      "source": [
        "머신 러닝에서 텍스트 분류. 그 중에서도 특히, 감성 분류를 연습하기 위해 자주 사용하는 데이터에는 영화 사이트 IMDB의 리뷰 데이터가 있다. \n",
        "\n",
        "이 데이터는 리뷰에 대한 텍스트와 해당 리뷰가 긍정인 경우 1을 부정인 경우 0으로 표시한 레이블로 구성된 데이터이다.\n",
        "\n",
        "스탠포드 대학교에서 2011년에 낸 논문에서 이 데이터를 소개하였으며, 당시 논문에서는 이 데이터를 훈련 데이터와 테스트 데이터를 50:50대 비율로 분할하여 88.89%의 정확도를 얻었다고 소개하고 있다.\n",
        "\n",
        "논문 링크 : http://ai.stanford.edu/~amaas/papers/wvSent_acl2011.pdf\n",
        "\n",
        "텐서플로우에서는 해당 데이터를 바로 받아볼 수 있도록 지원하고 있으며, 이를 이용하여 실습을 진행해보도록 하겠다."
      ]
    },
    {
      "cell_type": "code",
      "metadata": {
        "colab": {
          "base_uri": "https://localhost:8080/",
          "height": 35
        },
        "id": "VCh-3dY7O_Qr",
        "outputId": "a85fa9b5-24af-45fb-9a7d-b3504d5c7c1c"
      },
      "source": [
        "import numpy as np\n",
        "import tensorflow as tf\n",
        "tf.__version__\n",
        "# 본인의 텐서플로우 버전이 1.X인 경우 다음을 실행하자\n",
        "# tf.enable_eager_execution()"
      ],
      "execution_count": 52,
      "outputs": [
        {
          "output_type": "execute_result",
          "data": {
            "application/vnd.google.colaboratory.intrinsic+json": {
              "type": "string"
            },
            "text/plain": [
              "'2.6.0'"
            ]
          },
          "metadata": {},
          "execution_count": 52
        }
      ]
    },
    {
      "cell_type": "markdown",
      "metadata": {
        "id": "-qP1HW6sRiIj"
      },
      "source": [
        "## Load Dataset\n",
        "\n",
        "해당 데이터는 25,000개의 train sample과 25,000개의 test sample로 나뉜다"
      ]
    },
    {
      "cell_type": "code",
      "metadata": {
        "id": "FQnIp3l1RJIX"
      },
      "source": [
        "import tensorflow_datasets as tfds\n",
        "\n",
        "imdb, info = tfds.load(\"imdb_reviews\", with_info = True, as_supervised = True)"
      ],
      "execution_count": 53,
      "outputs": []
    },
    {
      "cell_type": "code",
      "metadata": {
        "id": "bNNwwPbkR1AG"
      },
      "source": [
        "# Split Dataset\n",
        "train_data, test_data = imdb['train'], imdb['test']"
      ],
      "execution_count": 54,
      "outputs": []
    },
    {
      "cell_type": "code",
      "metadata": {
        "id": "RlmzwLteSJq9"
      },
      "source": [
        "# Converting\n",
        "\n",
        "training_sentences = []\n",
        "training_labels = []\n",
        "\n",
        "testing_sentences = []\n",
        "testing_labels = []\n",
        "\n",
        "# str(s.tonumpy()) is needed in Python3 instead of just s.numpy()\n",
        "for s, l in train_data:\n",
        "  training_sentences.append(str(s.numpy()))\n",
        "  training_labels.append(l.numpy())\n",
        "\n",
        "for s, l in test_data:\n",
        "  testing_sentences.append(str(s.numpy()))\n",
        "  testing_labels.append(l.numpy())"
      ],
      "execution_count": 55,
      "outputs": []
    },
    {
      "cell_type": "code",
      "metadata": {
        "id": "3ul8vot2TIX8"
      },
      "source": [
        "# labels to Numpy array\n",
        "training_labels_final = np.array(training_labels)\n",
        "testing_labels_final = np.array(testing_labels)"
      ],
      "execution_count": 56,
      "outputs": []
    },
    {
      "cell_type": "code",
      "metadata": {
        "id": "E78ddNzST6D6"
      },
      "source": [
        "# define \n",
        "vocab_size = 10_000\n",
        "embedding_dim = 16\n",
        "max_length = 120\n",
        "trunc_type = 'post'\n",
        "oov_token = '<OOV>'\n",
        "\n",
        "# Tokenize\n",
        "from tensorflow.keras.preprocessing.text import Tokenizer\n",
        "from tensorflow.keras.preprocessing.sequence import pad_sequences\n",
        "\n",
        "tokenizer = Tokenizer(num_words = vocab_size, oov_token = oov_token)\n",
        "tokenizer.fit_on_texts(training_sentences)\n",
        "word_index = tokenizer.word_index\n",
        "sequences = tokenizer.texts_to_sequences(training_sentences)\n",
        "padded = pad_sequences(sequences, maxlen = max_length, truncating = trunc_type)\n",
        "\n",
        "testing_sequences = tokenizer.texts_to_sequences(testing_sentences)\n",
        "testing_padded = pad_sequences(testing_sequences, maxlen = max_length)"
      ],
      "execution_count": 57,
      "outputs": []
    },
    {
      "cell_type": "code",
      "metadata": {
        "id": "bSYntquRVCGz"
      },
      "source": [
        "# define Neural Network\n",
        "\n",
        "model = tf.keras.Sequential([\n",
        "                             tf.keras.layers.Embedding(vocab_size, embedding_dim, input_length=max_length),\n",
        "                             tf.keras.layers.Flatten(),\n",
        "                             tf.keras.layers.Dense(6, activation='relu'),\n",
        "                             tf.keras.layers.Dense(1, activation='sigmoid')\n",
        "])"
      ],
      "execution_count": 58,
      "outputs": []
    },
    {
      "cell_type": "markdown",
      "metadata": {
        "id": "tMBFS6lKVmSB"
      },
      "source": [
        "## How can we use vectors?\n",
        "\n",
        "현재 우리의 데이터셋은 해당 리뷰의 긍, 부정을 레이블로 나타내고 있다. 즉, 감성 분석의 답변을 제공하고 있는데, 이때 부정적인 리뷰라고 레이블되어 있는 sentence에서 자주 등장하는 단어는 부정적인 감정을 지녔다고 판단되게 된다.\n",
        "\n",
        "비슷한 감정을 지닌 단어들의 벡터는 유사한 경향을 보이게 되며, 이는 Neural Network 학습에서 이용되게 된다."
      ]
    },
    {
      "cell_type": "code",
      "metadata": {
        "colab": {
          "base_uri": "https://localhost:8080/"
        },
        "id": "BFYUCnk-VidQ",
        "outputId": "90c7f12e-063d-45f4-d406-2a694e9be848"
      },
      "source": [
        "# Model Compile & Summary\n",
        "model.compile(\n",
        "    loss='binary_crossentropy', \n",
        "    optimizer = 'adam', \n",
        "    metrics = ['accuracy']\n",
        "    )\n",
        "\n",
        "model.summary()"
      ],
      "execution_count": 59,
      "outputs": [
        {
          "output_type": "stream",
          "name": "stdout",
          "text": [
            "Model: \"sequential_2\"\n",
            "_________________________________________________________________\n",
            "Layer (type)                 Output Shape              Param #   \n",
            "=================================================================\n",
            "embedding_2 (Embedding)      (None, 120, 16)           160000    \n",
            "_________________________________________________________________\n",
            "flatten_1 (Flatten)          (None, 1920)              0         \n",
            "_________________________________________________________________\n",
            "dense_4 (Dense)              (None, 6)                 11526     \n",
            "_________________________________________________________________\n",
            "dense_5 (Dense)              (None, 1)                 7         \n",
            "=================================================================\n",
            "Total params: 171,533\n",
            "Trainable params: 171,533\n",
            "Non-trainable params: 0\n",
            "_________________________________________________________________\n"
          ]
        }
      ]
    },
    {
      "cell_type": "code",
      "metadata": {
        "colab": {
          "base_uri": "https://localhost:8080/"
        },
        "id": "vgV6uFg-XPG8",
        "outputId": "c3289fdb-3140-4293-9616-041fdc76108c"
      },
      "source": [
        "num_epochs = 10\n",
        "model.fit(padded,\n",
        "          training_labels_final,\n",
        "          epochs = num_epochs,\n",
        "          validation_data = (testing_padded, testing_labels_final)\n",
        "          )"
      ],
      "execution_count": 60,
      "outputs": [
        {
          "output_type": "stream",
          "name": "stdout",
          "text": [
            "Epoch 1/10\n",
            "782/782 [==============================] - 5s 6ms/step - loss: 0.4987 - accuracy: 0.7378 - val_loss: 0.3624 - val_accuracy: 0.8392\n",
            "Epoch 2/10\n",
            "782/782 [==============================] - 5s 6ms/step - loss: 0.2475 - accuracy: 0.9050 - val_loss: 0.3636 - val_accuracy: 0.8404\n",
            "Epoch 3/10\n",
            "782/782 [==============================] - 5s 6ms/step - loss: 0.1046 - accuracy: 0.9716 - val_loss: 0.4411 - val_accuracy: 0.8274\n",
            "Epoch 4/10\n",
            "782/782 [==============================] - 5s 6ms/step - loss: 0.0301 - accuracy: 0.9955 - val_loss: 0.5139 - val_accuracy: 0.8265\n",
            "Epoch 5/10\n",
            "782/782 [==============================] - 4s 6ms/step - loss: 0.0101 - accuracy: 0.9989 - val_loss: 0.5845 - val_accuracy: 0.8249\n",
            "Epoch 6/10\n",
            "782/782 [==============================] - 5s 6ms/step - loss: 0.0039 - accuracy: 0.9997 - val_loss: 0.6404 - val_accuracy: 0.8220\n",
            "Epoch 7/10\n",
            "782/782 [==============================] - 5s 6ms/step - loss: 0.0014 - accuracy: 1.0000 - val_loss: 0.6925 - val_accuracy: 0.8238\n",
            "Epoch 8/10\n",
            "782/782 [==============================] - 4s 6ms/step - loss: 5.4881e-04 - accuracy: 1.0000 - val_loss: 0.7292 - val_accuracy: 0.8248\n",
            "Epoch 9/10\n",
            "782/782 [==============================] - 5s 6ms/step - loss: 3.0420e-04 - accuracy: 1.0000 - val_loss: 0.7645 - val_accuracy: 0.8260\n",
            "Epoch 10/10\n",
            "782/782 [==============================] - 5s 6ms/step - loss: 1.8251e-04 - accuracy: 1.0000 - val_loss: 0.8027 - val_accuracy: 0.8253\n"
          ]
        },
        {
          "output_type": "execute_result",
          "data": {
            "text/plain": [
              "<keras.callbacks.History at 0x7f5c81a2a390>"
            ]
          },
          "metadata": {},
          "execution_count": 60
        }
      ]
    },
    {
      "cell_type": "code",
      "metadata": {
        "colab": {
          "base_uri": "https://localhost:8080/"
        },
        "id": "XS4ldHtCXed9",
        "outputId": "e97be8f6-8630-4641-9541-2594bb7e5641"
      },
      "source": [
        "e = model.layers[0]\n",
        "weights = e.get_weights()[0]\n",
        "\n",
        "print(weights.shape) # shape: (vocab_size, embedding_dim)"
      ],
      "execution_count": 61,
      "outputs": [
        {
          "output_type": "stream",
          "name": "stdout",
          "text": [
            "(10000, 16)\n"
          ]
        }
      ]
    },
    {
      "cell_type": "markdown",
      "metadata": {
        "id": "LuuizE6TYTe6"
      },
      "source": [
        "## Write the vectors and their metadata auto files"
      ]
    },
    {
      "cell_type": "code",
      "metadata": {
        "colab": {
          "base_uri": "https://localhost:8080/"
        },
        "id": "-yZZ5hpYY_Hg",
        "outputId": "410e35dd-30db-4785-eb8b-adcd54577213"
      },
      "source": [
        "reverse_word_index = dict([(value, key) for (key, value) in word_index.items()])\n",
        "\n",
        "def decode_review(text):\n",
        "  return \" \".join([reverse_word_index.get(i, '?') for i in text])\n",
        "\n",
        "print(decode_review(padded[0]))\n",
        "print(training_sentences[0])"
      ],
      "execution_count": 62,
      "outputs": [
        {
          "output_type": "stream",
          "name": "stdout",
          "text": [
            "? ? b this was an absolutely terrible movie don't be <OOV> in by christopher walken or michael <OOV> both are great actors but this must simply be their worst role in history even their great acting could not redeem this movie's ridiculous storyline this movie is an early nineties us propaganda piece the most pathetic scenes were those when the <OOV> rebels were making their cases for <OOV> maria <OOV> <OOV> appeared phony and her pseudo love affair with walken was nothing but a pathetic emotional plug in a movie that was devoid of any real meaning i am disappointed that there are movies like this ruining <OOV> like christopher <OOV> good name i could barely sit through it\n",
            "b\"This was an absolutely terrible movie. Don't be lured in by Christopher Walken or Michael Ironside. Both are great actors, but this must simply be their worst role in history. Even their great acting could not redeem this movie's ridiculous storyline. This movie is an early nineties US propaganda piece. The most pathetic scenes were those when the Columbian rebels were making their cases for revolutions. Maria Conchita Alonso appeared phony, and her pseudo-love affair with Walken was nothing but a pathetic emotional plug in a movie that was devoid of any real meaning. I am disappointed that there are movies like this, ruining actor's like Christopher Walken's good name. I could barely sit through it.\"\n"
          ]
        }
      ]
    },
    {
      "cell_type": "code",
      "metadata": {
        "id": "zPQ4_RdgX3PB"
      },
      "source": [
        "import io\n",
        "\n",
        "out_v = io.open('vecs.tsv', 'w', encoding='utf-8')\n",
        "out_m = io.open('meta.tsv', 'w', encoding='utf-8')\n",
        "\n",
        "for word_num in range(1, vocab_size):\n",
        "  word = reverse_word_index[word_num]\n",
        "  embeddings = weights[word_num]\n",
        "  out_m.write(word + '\\n')\n",
        "  out_v.write('\\t'.join([str(x) for x in embeddings]) + '\\n')\n",
        "\n",
        "out_v.close()\n",
        "out_m.close()"
      ],
      "execution_count": 63,
      "outputs": []
    },
    {
      "cell_type": "code",
      "metadata": {
        "colab": {
          "base_uri": "https://localhost:8080/",
          "height": 17
        },
        "id": "Qh6UXs1IY443",
        "outputId": "7ca119b1-4927-45e9-9727-44e2546e269a"
      },
      "source": [
        "# import files\n",
        "\n",
        "try:\n",
        "  from google.colab import files\n",
        "except ImportError:\n",
        "  pass\n",
        "else:\n",
        "  files.download('vecs.tsv')\n",
        "  files.download('meta.tsv')"
      ],
      "execution_count": 64,
      "outputs": [
        {
          "output_type": "display_data",
          "data": {
            "application/javascript": [
              "\n",
              "    async function download(id, filename, size) {\n",
              "      if (!google.colab.kernel.accessAllowed) {\n",
              "        return;\n",
              "      }\n",
              "      const div = document.createElement('div');\n",
              "      const label = document.createElement('label');\n",
              "      label.textContent = `Downloading \"${filename}\": `;\n",
              "      div.appendChild(label);\n",
              "      const progress = document.createElement('progress');\n",
              "      progress.max = size;\n",
              "      div.appendChild(progress);\n",
              "      document.body.appendChild(div);\n",
              "\n",
              "      const buffers = [];\n",
              "      let downloaded = 0;\n",
              "\n",
              "      const channel = await google.colab.kernel.comms.open(id);\n",
              "      // Send a message to notify the kernel that we're ready.\n",
              "      channel.send({})\n",
              "\n",
              "      for await (const message of channel.messages) {\n",
              "        // Send a message to notify the kernel that we're ready.\n",
              "        channel.send({})\n",
              "        if (message.buffers) {\n",
              "          for (const buffer of message.buffers) {\n",
              "            buffers.push(buffer);\n",
              "            downloaded += buffer.byteLength;\n",
              "            progress.value = downloaded;\n",
              "          }\n",
              "        }\n",
              "      }\n",
              "      const blob = new Blob(buffers, {type: 'application/binary'});\n",
              "      const a = document.createElement('a');\n",
              "      a.href = window.URL.createObjectURL(blob);\n",
              "      a.download = filename;\n",
              "      div.appendChild(a);\n",
              "      a.click();\n",
              "      div.remove();\n",
              "    }\n",
              "  "
            ],
            "text/plain": [
              "<IPython.core.display.Javascript object>"
            ]
          },
          "metadata": {}
        },
        {
          "output_type": "display_data",
          "data": {
            "application/javascript": [
              "download(\"download_6fcbf0c9-45ee-4e57-80aa-27bc15c590ed\", \"vecs.tsv\", 1907826)"
            ],
            "text/plain": [
              "<IPython.core.display.Javascript object>"
            ]
          },
          "metadata": {}
        },
        {
          "output_type": "display_data",
          "data": {
            "application/javascript": [
              "\n",
              "    async function download(id, filename, size) {\n",
              "      if (!google.colab.kernel.accessAllowed) {\n",
              "        return;\n",
              "      }\n",
              "      const div = document.createElement('div');\n",
              "      const label = document.createElement('label');\n",
              "      label.textContent = `Downloading \"${filename}\": `;\n",
              "      div.appendChild(label);\n",
              "      const progress = document.createElement('progress');\n",
              "      progress.max = size;\n",
              "      div.appendChild(progress);\n",
              "      document.body.appendChild(div);\n",
              "\n",
              "      const buffers = [];\n",
              "      let downloaded = 0;\n",
              "\n",
              "      const channel = await google.colab.kernel.comms.open(id);\n",
              "      // Send a message to notify the kernel that we're ready.\n",
              "      channel.send({})\n",
              "\n",
              "      for await (const message of channel.messages) {\n",
              "        // Send a message to notify the kernel that we're ready.\n",
              "        channel.send({})\n",
              "        if (message.buffers) {\n",
              "          for (const buffer of message.buffers) {\n",
              "            buffers.push(buffer);\n",
              "            downloaded += buffer.byteLength;\n",
              "            progress.value = downloaded;\n",
              "          }\n",
              "        }\n",
              "      }\n",
              "      const blob = new Blob(buffers, {type: 'application/binary'});\n",
              "      const a = document.createElement('a');\n",
              "      a.href = window.URL.createObjectURL(blob);\n",
              "      a.download = filename;\n",
              "      div.appendChild(a);\n",
              "      a.click();\n",
              "      div.remove();\n",
              "    }\n",
              "  "
            ],
            "text/plain": [
              "<IPython.core.display.Javascript object>"
            ]
          },
          "metadata": {}
        },
        {
          "output_type": "display_data",
          "data": {
            "application/javascript": [
              "download(\"download_0c938294-c0b6-44ad-91fd-3b16eff6f22c\", \"meta.tsv\", 75846)"
            ],
            "text/plain": [
              "<IPython.core.display.Javascript object>"
            ]
          },
          "metadata": {}
        }
      ]
    },
    {
      "cell_type": "markdown",
      "metadata": {
        "id": "NBnYgvecZewh"
      },
      "source": [
        "[TensorFlow projector](https://projector.tensorflow.org)"
      ]
    },
    {
      "cell_type": "markdown",
      "metadata": {
        "id": "a0VAYhrltNHg"
      },
      "source": [
        "## Classifier for the sarcasm dataset"
      ]
    },
    {
      "cell_type": "code",
      "metadata": {
        "id": "EO03Jn94tZof"
      },
      "source": [
        "import json\n",
        "import tensorflow as tf\n",
        "\n",
        "from tensorflow.keras.preprocessing.text import Tokenizer\n",
        "from tensorflow.keras.preprocessing.sequence import pad_sequences"
      ],
      "execution_count": 65,
      "outputs": []
    },
    {
      "cell_type": "code",
      "metadata": {
        "id": "bEwVEGbPtpQd"
      },
      "source": [
        "# define\n",
        "vocab_size = 10_000\n",
        "embedding_dim = 16\n",
        "max_length = 100\n",
        "padding_type = 'post'\n",
        "oov_token = '<OOV>'\n",
        "training_size = 20_000"
      ],
      "execution_count": 66,
      "outputs": []
    },
    {
      "cell_type": "code",
      "metadata": {
        "colab": {
          "base_uri": "https://localhost:8080/"
        },
        "id": "bV2X9p1lt3an",
        "outputId": "91fcb1ff-d85a-4f18-fb8b-a41ed603d06f"
      },
      "source": [
        "# sarcasm.json\n",
        "!gdown --id 1xRU3xY5-tkiPGvlz5xBJ18_pHWSRzI4v"
      ],
      "execution_count": 67,
      "outputs": [
        {
          "output_type": "stream",
          "name": "stdout",
          "text": [
            "Downloading...\n",
            "From: https://drive.google.com/uc?id=1xRU3xY5-tkiPGvlz5xBJ18_pHWSRzI4v\n",
            "To: /content/sarcasm.json\n",
            "\r  0% 0.00/5.64M [00:00<?, ?B/s]\r100% 5.64M/5.64M [00:00<00:00, 88.5MB/s]\n"
          ]
        }
      ]
    },
    {
      "cell_type": "code",
      "metadata": {
        "id": "nsJOz0NMt6yC"
      },
      "source": [
        "with open(\"./sarcasm.json\", 'r') as f:\n",
        "    datastore = json.load(f)\n",
        "\n",
        "sentences = []\n",
        "labels = []\n",
        "\n",
        "for item in datastore:\n",
        "    sentences.append(item['headline'])\n",
        "    labels.append(item['is_sarcastic'])"
      ],
      "execution_count": 68,
      "outputs": []
    },
    {
      "cell_type": "code",
      "metadata": {
        "id": "VvBHoJbjt8ar"
      },
      "source": [
        "training_sentences = sentences[0:training_size]\n",
        "testing_sentences = sentences[training_size:]\n",
        "training_labels = labels[0:training_size]\n",
        "testing_labels = labels[training_size:]"
      ],
      "execution_count": 69,
      "outputs": []
    },
    {
      "cell_type": "code",
      "metadata": {
        "id": "aXuhGRA9t_KF"
      },
      "source": [
        "tokenizer = Tokenizer(num_words=vocab_size, oov_token=oov_token)\n",
        "tokenizer.fit_on_texts(training_sentences)\n",
        "\n",
        "word_index = tokenizer.word_index\n",
        "\n",
        "training_sequences = tokenizer.texts_to_sequences(training_sentences)\n",
        "training_padded = pad_sequences(training_sequences, maxlen=max_length, padding=padding_type, truncating=trunc_type)\n",
        "\n",
        "testing_sequences = tokenizer.texts_to_sequences(testing_sentences)\n",
        "testing_padded = pad_sequences(testing_sequences, maxlen=max_length, padding=padding_type, truncating=trunc_type)"
      ],
      "execution_count": 70,
      "outputs": []
    },
    {
      "cell_type": "code",
      "metadata": {
        "id": "y_WJv2dYuBkH"
      },
      "source": [
        "# Need this block to get it to work with TensorFlow 2.x\n",
        "import numpy as np\n",
        "training_padded = np.array(training_padded)\n",
        "training_labels = np.array(training_labels)\n",
        "testing_padded = np.array(testing_padded)\n",
        "testing_labels = np.array(testing_labels)"
      ],
      "execution_count": 71,
      "outputs": []
    },
    {
      "cell_type": "code",
      "metadata": {
        "id": "oy8lK3ZEuNOt"
      },
      "source": [
        "model = tf.keras.Sequential([\n",
        "    tf.keras.layers.Embedding(vocab_size, embedding_dim, input_length=max_length),\n",
        "    tf.keras.layers.GlobalAveragePooling1D(),\n",
        "    tf.keras.layers.Dense(24, activation='relu'),\n",
        "    tf.keras.layers.Dense(1, activation='sigmoid')\n",
        "])\n",
        "model.compile(loss='binary_crossentropy',optimizer='adam',metrics=['accuracy'])"
      ],
      "execution_count": 72,
      "outputs": []
    },
    {
      "cell_type": "code",
      "metadata": {
        "colab": {
          "base_uri": "https://localhost:8080/"
        },
        "id": "0vlD3cgUuPUu",
        "outputId": "ced8ff64-6594-4b0b-9bdc-b983fdcfec28"
      },
      "source": [
        "model.summary()"
      ],
      "execution_count": 73,
      "outputs": [
        {
          "output_type": "stream",
          "name": "stdout",
          "text": [
            "Model: \"sequential_3\"\n",
            "_________________________________________________________________\n",
            "Layer (type)                 Output Shape              Param #   \n",
            "=================================================================\n",
            "embedding_3 (Embedding)      (None, 100, 16)           160000    \n",
            "_________________________________________________________________\n",
            "global_average_pooling1d_1 ( (None, 16)                0         \n",
            "_________________________________________________________________\n",
            "dense_6 (Dense)              (None, 24)                408       \n",
            "_________________________________________________________________\n",
            "dense_7 (Dense)              (None, 1)                 25        \n",
            "=================================================================\n",
            "Total params: 160,433\n",
            "Trainable params: 160,433\n",
            "Non-trainable params: 0\n",
            "_________________________________________________________________\n"
          ]
        }
      ]
    },
    {
      "cell_type": "code",
      "metadata": {
        "colab": {
          "base_uri": "https://localhost:8080/"
        },
        "id": "ftrdUgs1uSBf",
        "outputId": "3347017f-1722-4826-dfef-b1382204ce68"
      },
      "source": [
        "num_epochs = 30\n",
        "history = model.fit(training_padded, training_labels, epochs=num_epochs, validation_data=(testing_padded, testing_labels), verbose=2)"
      ],
      "execution_count": 74,
      "outputs": [
        {
          "output_type": "stream",
          "name": "stdout",
          "text": [
            "Epoch 1/30\n",
            "625/625 - 3s - loss: 0.6767 - accuracy: 0.5623 - val_loss: 0.6378 - val_accuracy: 0.6260\n",
            "Epoch 2/30\n",
            "625/625 - 2s - loss: 0.4673 - accuracy: 0.8020 - val_loss: 0.3886 - val_accuracy: 0.8381\n",
            "Epoch 3/30\n",
            "625/625 - 2s - loss: 0.3165 - accuracy: 0.8724 - val_loss: 0.3532 - val_accuracy: 0.8508\n",
            "Epoch 4/30\n",
            "625/625 - 2s - loss: 0.2648 - accuracy: 0.8965 - val_loss: 0.3503 - val_accuracy: 0.8465\n",
            "Epoch 5/30\n",
            "625/625 - 2s - loss: 0.2293 - accuracy: 0.9096 - val_loss: 0.3537 - val_accuracy: 0.8435\n",
            "Epoch 6/30\n",
            "625/625 - 2s - loss: 0.2018 - accuracy: 0.9229 - val_loss: 0.3473 - val_accuracy: 0.8536\n",
            "Epoch 7/30\n",
            "625/625 - 2s - loss: 0.1807 - accuracy: 0.9305 - val_loss: 0.3568 - val_accuracy: 0.8536\n",
            "Epoch 8/30\n",
            "625/625 - 2s - loss: 0.1608 - accuracy: 0.9412 - val_loss: 0.3701 - val_accuracy: 0.8542\n",
            "Epoch 9/30\n",
            "625/625 - 2s - loss: 0.1443 - accuracy: 0.9483 - val_loss: 0.3896 - val_accuracy: 0.8504\n",
            "Epoch 10/30\n",
            "625/625 - 2s - loss: 0.1321 - accuracy: 0.9524 - val_loss: 0.4059 - val_accuracy: 0.8512\n",
            "Epoch 11/30\n",
            "625/625 - 2s - loss: 0.1205 - accuracy: 0.9572 - val_loss: 0.4357 - val_accuracy: 0.8439\n",
            "Epoch 12/30\n",
            "625/625 - 2s - loss: 0.1100 - accuracy: 0.9620 - val_loss: 0.4501 - val_accuracy: 0.8463\n",
            "Epoch 13/30\n",
            "625/625 - 2s - loss: 0.1006 - accuracy: 0.9655 - val_loss: 0.4719 - val_accuracy: 0.8475\n",
            "Epoch 14/30\n",
            "625/625 - 2s - loss: 0.0921 - accuracy: 0.9693 - val_loss: 0.4976 - val_accuracy: 0.8445\n",
            "Epoch 15/30\n",
            "625/625 - 2s - loss: 0.0831 - accuracy: 0.9722 - val_loss: 0.5264 - val_accuracy: 0.8420\n",
            "Epoch 16/30\n",
            "625/625 - 2s - loss: 0.0777 - accuracy: 0.9739 - val_loss: 0.5686 - val_accuracy: 0.8351\n",
            "Epoch 17/30\n",
            "625/625 - 2s - loss: 0.0720 - accuracy: 0.9762 - val_loss: 0.5856 - val_accuracy: 0.8343\n",
            "Epoch 18/30\n",
            "625/625 - 2s - loss: 0.0655 - accuracy: 0.9785 - val_loss: 0.6128 - val_accuracy: 0.8323\n",
            "Epoch 19/30\n",
            "625/625 - 2s - loss: 0.0615 - accuracy: 0.9806 - val_loss: 0.6396 - val_accuracy: 0.8313\n",
            "Epoch 20/30\n",
            "625/625 - 2s - loss: 0.0560 - accuracy: 0.9822 - val_loss: 0.6681 - val_accuracy: 0.8290\n",
            "Epoch 21/30\n",
            "625/625 - 2s - loss: 0.0528 - accuracy: 0.9836 - val_loss: 0.6995 - val_accuracy: 0.8284\n",
            "Epoch 22/30\n",
            "625/625 - 2s - loss: 0.0477 - accuracy: 0.9851 - val_loss: 0.7504 - val_accuracy: 0.8259\n",
            "Epoch 23/30\n",
            "625/625 - 2s - loss: 0.0431 - accuracy: 0.9876 - val_loss: 0.7630 - val_accuracy: 0.8235\n",
            "Epoch 24/30\n",
            "625/625 - 2s - loss: 0.0404 - accuracy: 0.9880 - val_loss: 0.7989 - val_accuracy: 0.8232\n",
            "Epoch 25/30\n",
            "625/625 - 2s - loss: 0.0396 - accuracy: 0.9879 - val_loss: 0.8418 - val_accuracy: 0.8179\n",
            "Epoch 26/30\n",
            "625/625 - 2s - loss: 0.0348 - accuracy: 0.9898 - val_loss: 0.8675 - val_accuracy: 0.8190\n",
            "Epoch 27/30\n",
            "625/625 - 2s - loss: 0.0316 - accuracy: 0.9913 - val_loss: 0.9002 - val_accuracy: 0.8173\n",
            "Epoch 28/30\n",
            "625/625 - 2s - loss: 0.0284 - accuracy: 0.9918 - val_loss: 0.9438 - val_accuracy: 0.8177\n",
            "Epoch 29/30\n",
            "625/625 - 2s - loss: 0.0262 - accuracy: 0.9933 - val_loss: 0.9820 - val_accuracy: 0.8144\n",
            "Epoch 30/30\n",
            "625/625 - 2s - loss: 0.0234 - accuracy: 0.9944 - val_loss: 1.0221 - val_accuracy: 0.8138\n"
          ]
        }
      ]
    },
    {
      "cell_type": "markdown",
      "metadata": {
        "id": "-JDhN0iZuWGO"
      },
      "source": [
        "### Visualize"
      ]
    },
    {
      "cell_type": "code",
      "metadata": {
        "colab": {
          "base_uri": "https://localhost:8080/",
          "height": 541
        },
        "id": "lNQiwYh-uU-i",
        "outputId": "cc7e4267-801d-4bfe-de3e-887963081b5c"
      },
      "source": [
        "import matplotlib.pyplot as plt\n",
        "\n",
        "\n",
        "def plot_graphs(history, string):\n",
        "  plt.plot(history.history[string])\n",
        "  plt.plot(history.history['val_'+string])\n",
        "  plt.xlabel(\"Epochs\")\n",
        "  plt.ylabel(string)\n",
        "  plt.legend([string, 'val_'+string])\n",
        "  plt.show()\n",
        "  \n",
        "plot_graphs(history, \"accuracy\")\n",
        "plot_graphs(history, \"loss\")"
      ],
      "execution_count": 75,
      "outputs": [
        {
          "output_type": "display_data",
          "data": {
            "image/png": "[encoded data removed]",
            "text/plain": [
              "<Figure size 432x288 with 1 Axes>"
            ]
          },
          "metadata": {
            "needs_background": "light"
          }
        },
        {
          "output_type": "display_data",
          "data": {
            "image/png": "[encoded data removed]",
            "text/plain": [
              "<Figure size 432x288 with 1 Axes>"
            ]
          },
          "metadata": {
            "needs_background": "light"
          }
        }
      ]
    },
    {
      "cell_type": "code",
      "metadata": {
        "colab": {
          "base_uri": "https://localhost:8080/"
        },
        "id": "xr5Aa-chuYax",
        "outputId": "aa5d165f-ed99-4feb-b72e-1a24809197ef"
      },
      "source": [
        "reverse_word_index = dict([(value, key) for (key, value) in word_index.items()])\n",
        "\n",
        "def decode_sentence(text):\n",
        "    return ' '.join([reverse_word_index.get(i, '?') for i in text])\n",
        "\n",
        "print(decode_sentence(training_padded[0]))\n",
        "print(training_sentences[2])\n",
        "print(labels[2])"
      ],
      "execution_count": 76,
      "outputs": [
        {
          "output_type": "stream",
          "name": "stdout",
          "text": [
            "former <OOV> store clerk sues over secret 'black <OOV> for minority shoppers ? ? ? ? ? ? ? ? ? ? ? ? ? ? ? ? ? ? ? ? ? ? ? ? ? ? ? ? ? ? ? ? ? ? ? ? ? ? ? ? ? ? ? ? ? ? ? ? ? ? ? ? ? ? ? ? ? ? ? ? ? ? ? ? ? ? ? ? ? ? ? ? ? ? ? ? ? ? ? ? ? ? ? ? ? ? ? ?\n",
            "mom starting to fear son's web series closest thing she will have to grandchild\n",
            "1\n"
          ]
        }
      ]
    },
    {
      "cell_type": "code",
      "metadata": {
        "colab": {
          "base_uri": "https://localhost:8080/"
        },
        "id": "u2UVz7JvuavB",
        "outputId": "c9425655-fac0-4338-d23c-10b4412efd48"
      },
      "source": [
        "e = model.layers[0]\n",
        "weights = e.get_weights()[0]\n",
        "print(weights.shape) # shape: (vocab_size, embedding_dim)"
      ],
      "execution_count": 77,
      "outputs": [
        {
          "output_type": "stream",
          "name": "stdout",
          "text": [
            "(10000, 16)\n"
          ]
        }
      ]
    },
    {
      "cell_type": "code",
      "metadata": {
        "id": "yLj8TmY_ucJ1"
      },
      "source": [
        "import io\n",
        "\n",
        "out_v = io.open('vecs2.tsv', 'w', encoding='utf-8')\n",
        "out_m = io.open('meta2.tsv', 'w', encoding='utf-8')\n",
        "for word_num in range(1, vocab_size):\n",
        "  word = reverse_word_index[word_num]\n",
        "  embeddings = weights[word_num]\n",
        "  out_m.write(word + \"\\n\")\n",
        "  out_v.write('\\t'.join([str(x) for x in embeddings]) + \"\\n\")\n",
        "out_v.close()\n",
        "out_m.close()"
      ],
      "execution_count": 78,
      "outputs": []
    },
    {
      "cell_type": "code",
      "metadata": {
        "colab": {
          "base_uri": "https://localhost:8080/",
          "height": 17
        },
        "id": "DZuKf7Leueql",
        "outputId": "df86424f-dd54-4b0c-ce5b-f85596458589"
      },
      "source": [
        "try:\n",
        "  from google.colab import files\n",
        "except ImportError:\n",
        "  pass\n",
        "else:\n",
        "  files.download('vecs2.tsv')\n",
        "  files.download('meta2.tsv')"
      ],
      "execution_count": 79,
      "outputs": [
        {
          "output_type": "display_data",
          "data": {
            "application/javascript": [
              "\n",
              "    async function download(id, filename, size) {\n",
              "      if (!google.colab.kernel.accessAllowed) {\n",
              "        return;\n",
              "      }\n",
              "      const div = document.createElement('div');\n",
              "      const label = document.createElement('label');\n",
              "      label.textContent = `Downloading \"${filename}\": `;\n",
              "      div.appendChild(label);\n",
              "      const progress = document.createElement('progress');\n",
              "      progress.max = size;\n",
              "      div.appendChild(progress);\n",
              "      document.body.appendChild(div);\n",
              "\n",
              "      const buffers = [];\n",
              "      let downloaded = 0;\n",
              "\n",
              "      const channel = await google.colab.kernel.comms.open(id);\n",
              "      // Send a message to notify the kernel that we're ready.\n",
              "      channel.send({})\n",
              "\n",
              "      for await (const message of channel.messages) {\n",
              "        // Send a message to notify the kernel that we're ready.\n",
              "        channel.send({})\n",
              "        if (message.buffers) {\n",
              "          for (const buffer of message.buffers) {\n",
              "            buffers.push(buffer);\n",
              "            downloaded += buffer.byteLength;\n",
              "            progress.value = downloaded;\n",
              "          }\n",
              "        }\n",
              "      }\n",
              "      const blob = new Blob(buffers, {type: 'application/binary'});\n",
              "      const a = document.createElement('a');\n",
              "      a.href = window.URL.createObjectURL(blob);\n",
              "      a.download = filename;\n",
              "      div.appendChild(a);\n",
              "      a.click();\n",
              "      div.remove();\n",
              "    }\n",
              "  "
            ],
            "text/plain": [
              "<IPython.core.display.Javascript object>"
            ]
          },
          "metadata": {}
        },
        {
          "output_type": "display_data",
          "data": {
            "application/javascript": [
              "download(\"download_3a7aa671-3879-45e3-84a7-155128814d64\", \"vecs2.tsv\", 1810242)"
            ],
            "text/plain": [
              "<IPython.core.display.Javascript object>"
            ]
          },
          "metadata": {}
        },
        {
          "output_type": "display_data",
          "data": {
            "application/javascript": [
              "\n",
              "    async function download(id, filename, size) {\n",
              "      if (!google.colab.kernel.accessAllowed) {\n",
              "        return;\n",
              "      }\n",
              "      const div = document.createElement('div');\n",
              "      const label = document.createElement('label');\n",
              "      label.textContent = `Downloading \"${filename}\": `;\n",
              "      div.appendChild(label);\n",
              "      const progress = document.createElement('progress');\n",
              "      progress.max = size;\n",
              "      div.appendChild(progress);\n",
              "      document.body.appendChild(div);\n",
              "\n",
              "      const buffers = [];\n",
              "      let downloaded = 0;\n",
              "\n",
              "      const channel = await google.colab.kernel.comms.open(id);\n",
              "      // Send a message to notify the kernel that we're ready.\n",
              "      channel.send({})\n",
              "\n",
              "      for await (const message of channel.messages) {\n",
              "        // Send a message to notify the kernel that we're ready.\n",
              "        channel.send({})\n",
              "        if (message.buffers) {\n",
              "          for (const buffer of message.buffers) {\n",
              "            buffers.push(buffer);\n",
              "            downloaded += buffer.byteLength;\n",
              "            progress.value = downloaded;\n",
              "          }\n",
              "        }\n",
              "      }\n",
              "      const blob = new Blob(buffers, {type: 'application/binary'});\n",
              "      const a = document.createElement('a');\n",
              "      a.href = window.URL.createObjectURL(blob);\n",
              "      a.download = filename;\n",
              "      div.appendChild(a);\n",
              "      a.click();\n",
              "      div.remove();\n",
              "    }\n",
              "  "
            ],
            "text/plain": [
              "<IPython.core.display.Javascript object>"
            ]
          },
          "metadata": {}
        },
        {
          "output_type": "display_data",
          "data": {
            "application/javascript": [
              "download(\"download_c62bc749-7c0a-4c99-a61a-d8109310cf3c\", \"meta2.tsv\", 75974)"
            ],
            "text/plain": [
              "<IPython.core.display.Javascript object>"
            ]
          },
          "metadata": {}
        }
      ]
    },
    {
      "cell_type": "code",
      "metadata": {
        "colab": {
          "base_uri": "https://localhost:8080/"
        },
        "id": "n3MghS03ug__",
        "outputId": "2f8a3245-b80a-4f30-8d23-35a385f1dbf4"
      },
      "source": [
        "sentence = [\"granny starting to fear spiders in the garden might be real\", \"game of thrones season finale showing this sunday night\"]\n",
        "sequences = tokenizer.texts_to_sequences(sentence)\n",
        "padded = pad_sequences(sequences, maxlen=max_length, padding=padding_type, truncating=trunc_type)\n",
        "print(model.predict(padded))"
      ],
      "execution_count": 80,
      "outputs": [
        {
          "output_type": "stream",
          "name": "stdout",
          "text": [
            "[[9.5524836e-01]\n",
            " [1.7991662e-04]]\n"
          ]
        }
      ]
    },
    {
      "cell_type": "markdown",
      "metadata": {
        "id": "T_FEGlBBv7Ea"
      },
      "source": [
        "[TensorFlow projector](https://projector.tensorflow.org)"
      ]
    }
  ]
}