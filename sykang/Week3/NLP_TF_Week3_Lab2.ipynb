{
  "nbformat": 4,
  "nbformat_minor": 0,
  "metadata": {
    "accelerator": "GPU",
    "colab": {
      "name": "NLP_TF_Week3_Lab2",
      "provenance": [],
      "collapsed_sections": [],
      "toc_visible": true
    },
    "kernelspec": {
      "name": "python3",
      "display_name": "Python 3"
    },
    "language_info": {
      "name": "python"
    }
  },
  "cells": [
    {
      "cell_type": "markdown",
      "metadata": {
        "id": "p2DPrBlbT4qV"
      },
      "source": [
        "**Note:** This notebook can run using TensorFlow 2.5.0"
      ]
    },
    {
      "cell_type": "code",
      "metadata": {
        "id": "FyycHKJpT4qW"
      },
      "source": [
        "#!pip install tensorflow==2.5.0"
      ],
      "execution_count": 1,
      "outputs": []
    },
    {
      "cell_type": "markdown",
      "metadata": {
        "id": "rFiCyWQ-NC5D"
      },
      "source": [
        "# Multiple Layer LSTM"
      ]
    },
    {
      "cell_type": "code",
      "metadata": {
        "id": "Y20Lud2ZMBhW",
        "colab": {
          "base_uri": "https://localhost:8080/"
        },
        "outputId": "ddc8b165-d9e5-4912-f36f-9e80ec146ad3"
      },
      "source": [
        "from __future__ import absolute_import, division, print_function, unicode_literals\n",
        "\n",
        "\n",
        "import tensorflow_datasets as tfds\n",
        "import tensorflow as tf\n",
        "print(tf.__version__)"
      ],
      "execution_count": 2,
      "outputs": [
        {
          "output_type": "stream",
          "name": "stdout",
          "text": [
            "2.6.0\n"
          ]
        }
      ]
    },
    {
      "cell_type": "code",
      "metadata": {
        "id": "AW-4Vo4TMUHb",
        "colab": {
          "base_uri": "https://localhost:8080/"
        },
        "outputId": "b92c0eb1-4f4c-43c5-8e53-345693e5d190"
      },
      "source": [
        "# Get the data\n",
        "dataset, info = tfds.load('imdb_reviews/subwords8k', with_info=True, as_supervised=True)\n",
        "train_dataset, test_dataset = dataset['train'], dataset['test']\n"
      ],
      "execution_count": 3,
      "outputs": [
        {
          "output_type": "stream",
          "name": "stderr",
          "text": [
            "WARNING:absl:TFDS datasets with text encoding are deprecated and will be removed in a future version. Instead, you should use the plain text version and tokenize the text using `tensorflow_text` (See: https://www.tensorflow.org/tutorials/tensorflow_text/intro#tfdata_example)\n"
          ]
        }
      ]
    },
    {
      "cell_type": "code",
      "metadata": {
        "id": "L11bIR6-PKvs"
      },
      "source": [
        "tokenizer = info.features['text'].encoder"
      ],
      "execution_count": 4,
      "outputs": []
    },
    {
      "cell_type": "code",
      "metadata": {
        "id": "ffvRUI0_McDS"
      },
      "source": [
        "BUFFER_SIZE = 10000\n",
        "BATCH_SIZE = 64\n",
        "\n",
        "train_dataset = train_dataset.shuffle(BUFFER_SIZE)\n",
        "train_dataset = train_dataset.padded_batch(BATCH_SIZE, tf.compat.v1.data.get_output_shapes(train_dataset))\n",
        "test_dataset = test_dataset.padded_batch(BATCH_SIZE, tf.compat.v1.data.get_output_shapes(test_dataset))"
      ],
      "execution_count": 5,
      "outputs": []
    },
    {
      "cell_type": "markdown",
      "metadata": {
        "id": "WcJ9kX5XtixD"
      },
      "source": [
        "- Lab1과 동일"
      ]
    },
    {
      "cell_type": "code",
      "metadata": {
        "id": "jo1jjO3vn0jo"
      },
      "source": [
        "model = tf.keras.Sequential([\n",
        "    tf.keras.layers.Embedding(tokenizer.vocab_size, 64),\n",
        "    tf.keras.layers.Bidirectional(tf.keras.layers.LSTM(64, return_sequences=True)),\n",
        "    tf.keras.layers.Bidirectional(tf.keras.layers.LSTM(32)),\n",
        "    tf.keras.layers.Dense(64, activation='relu'),\n",
        "    tf.keras.layers.Dense(1, activation='sigmoid')\n",
        "])"
      ],
      "execution_count": 6,
      "outputs": []
    },
    {
      "cell_type": "markdown",
      "metadata": {
        "id": "sqqcbxuhusTk"
      },
      "source": [
        "- Lab1과 달리 Lab2에서는 두 개의 LSTM layer를 가지고 학습을 진행\n",
        "- tf.keras.layers.Bidirectional(tf.keras.layers.LSTM(64, return_sequences=True)): 이전과 달리 return_sequences라는 parameter가 추가됨. 이를 통해 다음 LSTM layer로 값을 return할 수 있게 됨 "
      ]
    },
    {
      "cell_type": "code",
      "metadata": {
        "id": "QKI5dfPgMioL",
        "colab": {
          "base_uri": "https://localhost:8080/"
        },
        "outputId": "698dd644-e67b-4f9b-8971-5c2fc3a7f16c"
      },
      "source": [
        "model.summary()"
      ],
      "execution_count": 7,
      "outputs": [
        {
          "output_type": "stream",
          "name": "stdout",
          "text": [
            "Model: \"sequential\"\n",
            "_________________________________________________________________\n",
            "Layer (type)                 Output Shape              Param #   \n",
            "=================================================================\n",
            "embedding (Embedding)        (None, None, 64)          523840    \n",
            "_________________________________________________________________\n",
            "bidirectional (Bidirectional (None, None, 128)         66048     \n",
            "_________________________________________________________________\n",
            "bidirectional_1 (Bidirection (None, 64)                41216     \n",
            "_________________________________________________________________\n",
            "dense (Dense)                (None, 64)                4160      \n",
            "_________________________________________________________________\n",
            "dense_1 (Dense)              (None, 1)                 65        \n",
            "=================================================================\n",
            "Total params: 635,329\n",
            "Trainable params: 635,329\n",
            "Non-trainable params: 0\n",
            "_________________________________________________________________\n"
          ]
        }
      ]
    },
    {
      "cell_type": "code",
      "metadata": {
        "id": "Uip7QOVzMoMq"
      },
      "source": [
        "model.compile(loss='binary_crossentropy', optimizer='adam', metrics=['accuracy'])"
      ],
      "execution_count": 8,
      "outputs": []
    },
    {
      "cell_type": "code",
      "metadata": {
        "id": "7mlgzaRDMtF6",
        "colab": {
          "base_uri": "https://localhost:8080/"
        },
        "outputId": "e45ee383-7b0b-4a7f-dec8-02c38a29fec3"
      },
      "source": [
        "NUM_EPOCHS = 10\n",
        "history = model.fit(train_dataset, epochs=NUM_EPOCHS, validation_data=test_dataset)"
      ],
      "execution_count": 9,
      "outputs": [
        {
          "output_type": "stream",
          "name": "stdout",
          "text": [
            "Epoch 1/10\n",
            "391/391 [==============================] - 318s 792ms/step - loss: 0.5450 - accuracy: 0.7240 - val_loss: 0.4837 - val_accuracy: 0.7916\n",
            "Epoch 2/10\n",
            "391/391 [==============================] - 309s 787ms/step - loss: 0.3865 - accuracy: 0.8388 - val_loss: 0.4976 - val_accuracy: 0.7775\n",
            "Epoch 3/10\n",
            "391/391 [==============================] - 306s 780ms/step - loss: 0.2868 - accuracy: 0.8883 - val_loss: 0.5148 - val_accuracy: 0.7543\n",
            "Epoch 4/10\n",
            "391/391 [==============================] - 305s 778ms/step - loss: 0.2696 - accuracy: 0.8943 - val_loss: 0.4791 - val_accuracy: 0.8150\n",
            "Epoch 5/10\n",
            "391/391 [==============================] - 304s 776ms/step - loss: 0.2163 - accuracy: 0.9202 - val_loss: 0.5066 - val_accuracy: 0.8061\n",
            "Epoch 6/10\n",
            "391/391 [==============================] - 304s 776ms/step - loss: 0.1757 - accuracy: 0.9362 - val_loss: 0.5705 - val_accuracy: 0.8091\n",
            "Epoch 7/10\n",
            "391/391 [==============================] - 304s 775ms/step - loss: 0.1453 - accuracy: 0.9495 - val_loss: 0.5848 - val_accuracy: 0.8112\n",
            "Epoch 8/10\n",
            "391/391 [==============================] - 303s 772ms/step - loss: 0.1177 - accuracy: 0.9584 - val_loss: 0.6016 - val_accuracy: 0.8113\n",
            "Epoch 9/10\n",
            "391/391 [==============================] - 304s 775ms/step - loss: 0.0851 - accuracy: 0.9724 - val_loss: 0.7242 - val_accuracy: 0.7843\n",
            "Epoch 10/10\n",
            "391/391 [==============================] - 303s 772ms/step - loss: 0.0736 - accuracy: 0.9787 - val_loss: 0.6663 - val_accuracy: 0.7986\n"
          ]
        }
      ]
    },
    {
      "cell_type": "code",
      "metadata": {
        "id": "Mp1Z7P9pYRSK"
      },
      "source": [
        "import matplotlib.pyplot as plt\n",
        "\n",
        "\n",
        "def plot_graphs(history, string):\n",
        "  plt.plot(history.history[string])\n",
        "  plt.plot(history.history['val_'+string])\n",
        "  plt.xlabel(\"Epochs\")\n",
        "  plt.ylabel(string)\n",
        "  plt.legend([string, 'val_'+string])\n",
        "  plt.show()"
      ],
      "execution_count": 10,
      "outputs": []
    },
    {
      "cell_type": "code",
      "metadata": {
        "id": "R_sX6ilIM515",
        "colab": {
          "base_uri": "https://localhost:8080/",
          "height": 279
        },
        "outputId": "92ce7ce7-64ec-4bbe-f6d2-b7c3a65a5e07"
      },
      "source": [
        "plot_graphs(history, 'accuracy')"
      ],
      "execution_count": 11,
      "outputs": [
        {
          "output_type": "display_data",
          "data": {
            "image/png": "[encoded data removed]",
            "text/plain": [
              "<Figure size 432x288 with 1 Axes>"
            ]
          },
          "metadata": {
            "needs_background": "light"
          }
        }
      ]
    },
    {
      "cell_type": "code",
      "metadata": {
        "id": "RFEXtKtqNARB",
        "colab": {
          "base_uri": "https://localhost:8080/",
          "height": 279
        },
        "outputId": "c404738c-aed5-4db9-eac7-40d286e346a6"
      },
      "source": [
        "plot_graphs(history, 'loss')"
      ],
      "execution_count": 12,
      "outputs": [
        {
          "output_type": "display_data",
          "data": {
            "image/png": "[encoded data removed]",
            "text/plain": [
              "<Figure size 432x288 with 1 Axes>"
            ]
          },
          "metadata": {
            "needs_background": "light"
          }
        }
      ]
    },
    {
      "cell_type": "markdown",
      "metadata": {
        "id": "TXQ7cJfQLAnp"
      },
      "source": [
        "- accuracy graph가 Single layer LSTM에서는 다소 거칠게 accuracy가 증가하는 경향을 보이지만, Double layer LSTM에서는 다소 완만하게 accuracy가 증가하는 결과를 확인할 수 있음\n",
        "- 이는 epoch의 수를 증가해보면 확실하게 차이를 느낄 수 있는데, Single layer LSTM에서는 sharp한 Deep이 생기는 모습을 확인할 수 있고, 이는 학습 정확도에 확신을 주지 못하는 요소로 고려될 수 있음\n",
        "- val_accuracy가 80% 정도를 유지하는 것은 8000개의 적은 데이터를 가지고 학습한 것을 고려하면 꽤 괜찮은 수치라고 생각할 수 있음"
      ]
    },
    {
      "cell_type": "code",
      "metadata": {
        "id": "nAu09i6RL-SZ"
      },
      "source": [
        ""
      ],
      "execution_count": null,
      "outputs": []
    }
  ]
}