{
 "cells": [
  {
   "cell_type": "markdown",
   "metadata": {},
   "source": [
    "Natural Language Processing in Tensorflow\n",
    "---------------------------------------------------------------\n",
    "1. Sentiment in text\n",
    "1. Word Embeddings\n",
    "1. **Sequence model**\n",
    "1. Sequence models and literature"
   ]
  },
  {
   "cell_type": "markdown",
   "metadata": {},
   "source": [
    "Week3 Quiz (받은 성적 100%)\n",
    "-----------------\n",
    "\n",
    "#### 1. Why does sequence make a large difference when determining semantics of language?\n",
    "- **Because the order in which words appear dictate their impact on the meaning of the sentence**\n",
    "- Because the order of words doesn't matter\n",
    "- Because the order in which words appear dictate their meaning\n",
    "- It doesn't"
   ]
  },
  {
   "cell_type": "markdown",
   "metadata": {},
   "source": [
    "#### 2. How do Recurrent Neural Networks help you understand the impact of sequence on meaning?\n",
    "- They look at the whole sentence at a time\n",
    "- **They carry meaning from one cell to the next**\n",
    "- They shuffle the words evenly\n",
    "- They don't"
   ]
  },
  {
   "cell_type": "markdown",
   "metadata": {},
   "source": [
    "#### 3. How does an LSTM help understand meaning when words that qualify each other aren’t necessarily beside each other in a sentence?\n",
    "- They load all words into a cell state\n",
    "- **Values from earlier words can be carried to later ones via a cell state**\n",
    "- They shuffle the words randomly\n",
    "- They don't"
   ]
  },
  {
   "cell_type": "markdown",
   "metadata": {},
   "source": [
    "#### 4. What keras layer type allows LSTMs to look forward and backward in a sentence?\n",
    "- Bothdirection\n",
    "- Vilateral\n",
    "- **Bidirectional**\n",
    "- Unilateral"
   ]
  },
  {
   "cell_type": "markdown",
   "metadata": {},
   "source": [
    "#### 5. What’s the output shape of a bidirectional LSTM layer with 64 units?\n",
    "- (128,None)\n",
    "- (128,1)\n",
    "- **(None, 128)**\n",
    "- (None, 64)"
   ]
  },
  {
   "cell_type": "markdown",
   "metadata": {},
   "source": [
    "#### 6. When stacking LSTMs, how do you instruct an LSTM to feed the next one in the sequence?\n",
    "- **Ensure that return_sequences is set to True only on units that feed to another LSTM**\n",
    "- Ensure that they have the same number of units\n",
    "- Ensure that return_sequences is set to True on all units\n",
    "- Do nothing, TensorFlow handles this automatically"
   ]
  },
  {
   "cell_type": "markdown",
   "metadata": {},
   "source": [
    "#### 7. If a sentence has 120 tokens in it, and a Conv1D with 128 filters with a Kernal size of 5 is passed over it, what’s the output shape?\n",
    "- (None, 116, 124)\n",
    "- (None, 120, 128)\n",
    "- (None, 120, 124)\n",
    "- **(None, 116, 128)**"
   ]
  },
  {
   "cell_type": "markdown",
   "metadata": {},
   "source": [
    "#### 8. What’s the best way to avoid overfitting in NLP datasets?\n",
    "- Use LSTMs\n",
    "- Use GRUs\n",
    "- Use Conv1D\n",
    "- **None of the above**"
   ]
  }
 ],
 "metadata": {
  "kernelspec": {
   "display_name": "Python 3",
   "language": "python",
   "name": "python3"
  },
  "language_info": {
   "codemirror_mode": {
    "name": "ipython",
    "version": 3
   },
   "file_extension": ".py",
   "mimetype": "text/x-python",
   "name": "python",
   "nbconvert_exporter": "python",
   "pygments_lexer": "ipython3",
   "version": "3.8.3"
  }
 },
 "nbformat": 4,
 "nbformat_minor": 5
}
