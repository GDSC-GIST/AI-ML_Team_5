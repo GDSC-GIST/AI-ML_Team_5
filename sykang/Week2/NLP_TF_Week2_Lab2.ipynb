{
  "nbformat": 4,
  "nbformat_minor": 0,
  "metadata": {
    "accelerator": "GPU",
    "colab": {
      "name": "NLP_TF_Week2-Lab2",
      "provenance": [],
      "collapsed_sections": []
    },
    "kernelspec": {
      "name": "python3",
      "display_name": "Python 3"
    },
    "language_info": {
      "name": "python"
    }
  },
  "cells": [
    {
      "cell_type": "markdown",
      "metadata": {
        "id": "A6Ng8Qa0SESx"
      },
      "source": [
        "Sarcasm Dataset\n",
        "----------\n",
        "- imdb에서 다시 돌아와서, 이번에도 sarcasm dataset을 이용해서 응용을 해볼 예정\n",
        "- sarcasm dataset을 이용해서 학습을 진행하고, accuracy와 loss function에 대해서 논하는 것이 목표"
      ]
    },
    {
      "cell_type": "markdown",
      "metadata": {
        "id": "DblSKtgISM2d"
      },
      "source": [
        "**Note:** This notebook can run using TensorFlow 2.5.0"
      ]
    },
    {
      "cell_type": "code",
      "metadata": {
        "id": "4gs9htvM7n_x"
      },
      "source": [
        "#!pip install tensorflow==2.5.0"
      ],
      "execution_count": 1,
      "outputs": []
    },
    {
      "cell_type": "code",
      "metadata": {
        "id": "XYYDvoskkE61"
      },
      "source": [
        "import json\n",
        "import tensorflow as tf\n",
        "\n",
        "from tensorflow.keras.preprocessing.text import Tokenizer\n",
        "from tensorflow.keras.preprocessing.sequence import pad_sequences"
      ],
      "execution_count": 2,
      "outputs": []
    },
    {
      "cell_type": "markdown",
      "metadata": {
        "id": "pB0sQZl2Uyjz"
      },
      "source": [
        "- 전과 같이 json과 TensorFlow를 불러오고, Tokenzer와 pad_sequence도 불러옴"
      ]
    },
    {
      "cell_type": "code",
      "metadata": {
        "id": "0eJSTTYnkJQd"
      },
      "source": [
        "vocab_size = 10000\n",
        "embedding_dim = 16\n",
        "max_length = 100\n",
        "trunc_type='post'\n",
        "padding_type='post'\n",
        "oov_tok = \"<OOV>\"\n",
        "training_size = 20000\n"
      ],
      "execution_count": 3,
      "outputs": []
    },
    {
      "cell_type": "markdown",
      "metadata": {
        "id": "7sk8CVrPU_gT"
      },
      "source": [
        "- 사용할 hyperparameter\n",
        "- sarcasm data에는 27,000개의 자료가 있는데 그중 20,000개 정도를 training하는데 사용할 예정"
      ]
    },
    {
      "cell_type": "code",
      "metadata": {
        "id": "BQVuQrZNkPn9",
        "colab": {
          "base_uri": "https://localhost:8080/"
        },
        "outputId": "6c9bd871-a0fd-4002-aeee-b9ea5e46d4b9"
      },
      "source": [
        "# sarcasm.json\n",
        "!gdown --id 1xRU3xY5-tkiPGvlz5xBJ18_pHWSRzI4v"
      ],
      "execution_count": 4,
      "outputs": [
        {
          "output_type": "stream",
          "name": "stdout",
          "text": [
            "Downloading...\n",
            "From: https://drive.google.com/uc?id=1xRU3xY5-tkiPGvlz5xBJ18_pHWSRzI4v\n",
            "To: /content/sarcasm.json\n",
            "\r  0% 0.00/5.64M [00:00<?, ?B/s]\r100% 5.64M/5.64M [00:00<00:00, 88.9MB/s]\n"
          ]
        }
      ]
    },
    {
      "cell_type": "markdown",
      "metadata": {
        "id": "OgQh06NjVI-8"
      },
      "source": [
        "- 링크를 통해서 다운로드"
      ]
    },
    {
      "cell_type": "code",
      "metadata": {
        "id": "oaLaaqhNkUPd"
      },
      "source": [
        "with open(\"./sarcasm.json\", 'r') as f:\n",
        "    datastore = json.load(f)\n",
        "\n",
        "sentences = []\n",
        "labels = []\n",
        "\n",
        "for item in datastore:\n",
        "    sentences.append(item['headline'])\n",
        "    labels.append(item['is_sarcastic'])"
      ],
      "execution_count": 5,
      "outputs": []
    },
    {
      "cell_type": "markdown",
      "metadata": {
        "id": "NPGTqa-yVOkM"
      },
      "source": [
        "- data를 우리가 사용할 변수에다 assign"
      ]
    },
    {
      "cell_type": "code",
      "metadata": {
        "id": "S1sD-7v0kYWk"
      },
      "source": [
        "training_sentences = sentences[0:training_size]\n",
        "testing_sentences = sentences[training_size:]\n",
        "training_labels = labels[0:training_size]\n",
        "testing_labels = labels[training_size:]"
      ],
      "execution_count": 6,
      "outputs": []
    },
    {
      "cell_type": "markdown",
      "metadata": {
        "id": "3CVKxHOFVYwl"
      },
      "source": [
        "- 전체 데이터 중 0번째부터 training_size번째까지의 data를 training data로 사용하고, training_size번째부터 마지막 번째까지의 data를 testing data로 사용하기 위해서 위와 같은 과정을 거침"
      ]
    },
    {
      "cell_type": "code",
      "metadata": {
        "id": "3u8UB0MCkZ5N"
      },
      "source": [
        "tokenizer = Tokenizer(num_words=vocab_size, oov_token=oov_tok)\n",
        "tokenizer.fit_on_texts(training_sentences)\n",
        "\n",
        "word_index = tokenizer.word_index\n",
        "\n",
        "training_sequences = tokenizer.texts_to_sequences(training_sentences)\n",
        "training_padded = pad_sequences(training_sequences, maxlen=max_length, padding=padding_type, truncating=trunc_type)\n",
        "\n",
        "testing_sequences = tokenizer.texts_to_sequences(testing_sentences)\n",
        "testing_padded = pad_sequences(testing_sequences, maxlen=max_length, padding=padding_type, truncating=trunc_type)"
      ],
      "execution_count": 7,
      "outputs": []
    },
    {
      "cell_type": "code",
      "metadata": {
        "id": "GrAlWBKf99Ya"
      },
      "source": [
        "# Need this block to get it to work with TensorFlow 2.x\n",
        "import numpy as np\n",
        "training_padded = np.array(training_padded)\n",
        "training_labels = np.array(training_labels)\n",
        "testing_padded = np.array(testing_padded)\n",
        "testing_labels = np.array(testing_labels)"
      ],
      "execution_count": 8,
      "outputs": []
    },
    {
      "cell_type": "markdown",
      "metadata": {
        "id": "U4uazfRcWLl4"
      },
      "source": [
        "- Lab1 때와 같이 sequencing하고 padding 과정을 거침"
      ]
    },
    {
      "cell_type": "code",
      "metadata": {
        "id": "FufaT4vlkiDE"
      },
      "source": [
        "model = tf.keras.Sequential([\n",
        "    tf.keras.layers.Embedding(vocab_size, embedding_dim, input_length=max_length),\n",
        "    tf.keras.layers.GlobalAveragePooling1D(),\n",
        "    tf.keras.layers.Dense(24, activation='relu'),\n",
        "    tf.keras.layers.Dense(1, activation='sigmoid')\n",
        "])\n",
        "model.compile(loss='binary_crossentropy',optimizer='adam',metrics=['accuracy'])"
      ],
      "execution_count": 9,
      "outputs": []
    },
    {
      "cell_type": "markdown",
      "metadata": {
        "id": "Qsztzh91WQSs"
      },
      "source": [
        "- tf.keras.layers.Embedding: 각 단어마다 16차원의 배열을 할당함으로써 단어가 가지는 특성(긍정, 부정)을 16차원의 값을 통해서 표현\n",
        "- tf.keras.layers.GlobalAveragePooling1D: 2차원 벡터를 input으로 사용할 수 있도록 1차원 벡터로 만드는 역할(이번에는 평균값을 사용)\n",
        "- tf.keras.layers.Dense: classification을 위해서 각 relu, sigmoid를 activation fn으로 가지는 layer에 assign\n",
        "- label 값이 이원화 되어있기 때문에 binary_crossentropy를 사용\n",
        "- 추가로 optimizer로 Adam을 사용한 모습을 확인 가능"
      ]
    },
    {
      "cell_type": "code",
      "metadata": {
        "id": "XfDt1hmYkiys",
        "colab": {
          "base_uri": "https://localhost:8080/"
        },
        "outputId": "64649f0a-5b15-4e50-c485-1404a70d6988"
      },
      "source": [
        "model.summary()\n"
      ],
      "execution_count": 10,
      "outputs": [
        {
          "output_type": "stream",
          "name": "stdout",
          "text": [
            "Model: \"sequential\"\n",
            "_________________________________________________________________\n",
            "Layer (type)                 Output Shape              Param #   \n",
            "=================================================================\n",
            "embedding (Embedding)        (None, 100, 16)           160000    \n",
            "_________________________________________________________________\n",
            "global_average_pooling1d (Gl (None, 16)                0         \n",
            "_________________________________________________________________\n",
            "dense (Dense)                (None, 24)                408       \n",
            "_________________________________________________________________\n",
            "dense_1 (Dense)              (None, 1)                 25        \n",
            "=================================================================\n",
            "Total params: 160,433\n",
            "Trainable params: 160,433\n",
            "Non-trainable params: 0\n",
            "_________________________________________________________________\n"
          ]
        }
      ]
    },
    {
      "cell_type": "code",
      "metadata": {
        "id": "2DTKQFf1kkyc",
        "colab": {
          "base_uri": "https://localhost:8080/"
        },
        "outputId": "41bf1efb-ee3b-48a6-a9ef-f0622c2150b5"
      },
      "source": [
        "num_epochs = 30\n",
        "history = model.fit(training_padded, training_labels, epochs=num_epochs, validation_data=(testing_padded, testing_labels), verbose=2)"
      ],
      "execution_count": 11,
      "outputs": [
        {
          "output_type": "stream",
          "name": "stdout",
          "text": [
            "Epoch 1/30\n",
            "625/625 - 6s - loss: 0.6715 - accuracy: 0.5678 - val_loss: 0.6064 - val_accuracy: 0.7149\n",
            "Epoch 2/30\n",
            "625/625 - 3s - loss: 0.4518 - accuracy: 0.8151 - val_loss: 0.3909 - val_accuracy: 0.8414\n",
            "Epoch 3/30\n",
            "625/625 - 3s - loss: 0.3166 - accuracy: 0.8747 - val_loss: 0.3550 - val_accuracy: 0.8527\n",
            "Epoch 4/30\n",
            "625/625 - 3s - loss: 0.2637 - accuracy: 0.8985 - val_loss: 0.3441 - val_accuracy: 0.8571\n",
            "Epoch 5/30\n",
            "625/625 - 3s - loss: 0.2269 - accuracy: 0.9136 - val_loss: 0.3437 - val_accuracy: 0.8566\n",
            "Epoch 6/30\n",
            "625/625 - 3s - loss: 0.2010 - accuracy: 0.9229 - val_loss: 0.3511 - val_accuracy: 0.8557\n",
            "Epoch 7/30\n",
            "625/625 - 3s - loss: 0.1780 - accuracy: 0.9337 - val_loss: 0.3594 - val_accuracy: 0.8554\n",
            "Epoch 8/30\n",
            "625/625 - 3s - loss: 0.1601 - accuracy: 0.9404 - val_loss: 0.3876 - val_accuracy: 0.8456\n",
            "Epoch 9/30\n",
            "625/625 - 3s - loss: 0.1439 - accuracy: 0.9482 - val_loss: 0.3887 - val_accuracy: 0.8550\n",
            "Epoch 10/30\n",
            "625/625 - 2s - loss: 0.1309 - accuracy: 0.9540 - val_loss: 0.4194 - val_accuracy: 0.8445\n",
            "Epoch 11/30\n",
            "625/625 - 3s - loss: 0.1193 - accuracy: 0.9582 - val_loss: 0.4271 - val_accuracy: 0.8505\n",
            "Epoch 12/30\n",
            "625/625 - 3s - loss: 0.1082 - accuracy: 0.9628 - val_loss: 0.4488 - val_accuracy: 0.8466\n",
            "Epoch 13/30\n",
            "625/625 - 3s - loss: 0.0996 - accuracy: 0.9664 - val_loss: 0.4746 - val_accuracy: 0.8444\n",
            "Epoch 14/30\n",
            "625/625 - 3s - loss: 0.0912 - accuracy: 0.9693 - val_loss: 0.5221 - val_accuracy: 0.8362\n",
            "Epoch 15/30\n",
            "625/625 - 3s - loss: 0.0839 - accuracy: 0.9729 - val_loss: 0.5415 - val_accuracy: 0.8371\n",
            "Epoch 16/30\n",
            "625/625 - 3s - loss: 0.0772 - accuracy: 0.9754 - val_loss: 0.5670 - val_accuracy: 0.8365\n",
            "Epoch 17/30\n",
            "625/625 - 3s - loss: 0.0711 - accuracy: 0.9780 - val_loss: 0.5947 - val_accuracy: 0.8343\n",
            "Epoch 18/30\n",
            "625/625 - 3s - loss: 0.0660 - accuracy: 0.9795 - val_loss: 0.6333 - val_accuracy: 0.8322\n",
            "Epoch 19/30\n",
            "625/625 - 3s - loss: 0.0609 - accuracy: 0.9811 - val_loss: 0.6589 - val_accuracy: 0.8316\n",
            "Epoch 20/30\n",
            "625/625 - 3s - loss: 0.0569 - accuracy: 0.9823 - val_loss: 0.7052 - val_accuracy: 0.8258\n",
            "Epoch 21/30\n",
            "625/625 - 3s - loss: 0.0518 - accuracy: 0.9841 - val_loss: 0.7356 - val_accuracy: 0.8238\n",
            "Epoch 22/30\n",
            "625/625 - 3s - loss: 0.0472 - accuracy: 0.9859 - val_loss: 0.7479 - val_accuracy: 0.8250\n",
            "Epoch 23/30\n",
            "625/625 - 2s - loss: 0.0435 - accuracy: 0.9876 - val_loss: 0.8510 - val_accuracy: 0.8201\n",
            "Epoch 24/30\n",
            "625/625 - 3s - loss: 0.0409 - accuracy: 0.9881 - val_loss: 0.8666 - val_accuracy: 0.8179\n",
            "Epoch 25/30\n",
            "625/625 - 3s - loss: 0.0380 - accuracy: 0.9887 - val_loss: 0.8564 - val_accuracy: 0.8193\n",
            "Epoch 26/30\n",
            "625/625 - 3s - loss: 0.0350 - accuracy: 0.9898 - val_loss: 0.8973 - val_accuracy: 0.8186\n",
            "Epoch 27/30\n",
            "625/625 - 3s - loss: 0.0313 - accuracy: 0.9919 - val_loss: 0.9600 - val_accuracy: 0.8165\n",
            "Epoch 28/30\n",
            "625/625 - 3s - loss: 0.0297 - accuracy: 0.9917 - val_loss: 1.0069 - val_accuracy: 0.8156\n",
            "Epoch 29/30\n",
            "625/625 - 2s - loss: 0.0263 - accuracy: 0.9933 - val_loss: 1.0198 - val_accuracy: 0.8143\n",
            "Epoch 30/30\n",
            "625/625 - 2s - loss: 0.0262 - accuracy: 0.9930 - val_loss: 1.0932 - val_accuracy: 0.8150\n"
          ]
        }
      ]
    },
    {
      "cell_type": "markdown",
      "metadata": {
        "id": "aGGEdxl7Wk0e"
      },
      "source": [
        "- Epoch의 개수를 30으로 두어 학습을 진행\n",
        "- 최종 accuracy: 99.3%\n",
        "- 최종 validation: 81.5%"
      ]
    },
    {
      "cell_type": "code",
      "metadata": {
        "id": "2HYfBKXjkmU8",
        "colab": {
          "base_uri": "https://localhost:8080/",
          "height": 541
        },
        "outputId": "3b91007c-b42a-4e7a-a438-6fb8c6531ef8"
      },
      "source": [
        "import matplotlib.pyplot as plt\n",
        "\n",
        "\n",
        "def plot_graphs(history, string):\n",
        "  plt.plot(history.history[string])\n",
        "  plt.plot(history.history['val_'+string])\n",
        "  plt.xlabel(\"Epochs\")\n",
        "  plt.ylabel(string)\n",
        "  plt.legend([string, 'val_'+string])\n",
        "  plt.show()\n",
        "  \n",
        "plot_graphs(history, \"accuracy\")\n",
        "plot_graphs(history, \"loss\")"
      ],
      "execution_count": 12,
      "outputs": [
        {
          "output_type": "display_data",
          "data": {
            "image/png": "[encoded data removed]",
            "text/plain": [
              "<Figure size 432x288 with 1 Axes>"
            ]
          },
          "metadata": {
            "needs_background": "light"
          }
        },
        {
          "output_type": "display_data",
          "data": {
            "image/png": "[encoded data removed]",
            "text/plain": [
              "<Figure size 432x288 with 1 Axes>"
            ]
          },
          "metadata": {
            "needs_background": "light"
          }
        }
      ]
    },
    {
      "cell_type": "markdown",
      "metadata": {
        "id": "4rWG4lcVWwX4"
      },
      "source": [
        "- Epoch당 Accuracy와 validation의 accuracy와 loss를 나타낸 그래프\n",
        "- 주목할 점은 Epoch의 증가함에 따라서 validation의 loss가 증가하는 모습을 볼 수 있는데, 이는 하이퍼파라미터 조정과 embedding dimension 조정을 통해서 조절할 수 있음\n",
        "- accuracy가 90% 이상을 기록하면서 loss 값이 급격하게 증가하지 않는 조합을 찾는 것이 학습에 있어서 중요"
      ]
    },
    {
      "cell_type": "code",
      "metadata": {
        "id": "7SBdAZAenvzL",
        "colab": {
          "base_uri": "https://localhost:8080/"
        },
        "outputId": "8ee2abb8-9ff0-4e3b-b679-61a0c1d9fa8f"
      },
      "source": [
        "reverse_word_index = dict([(value, key) for (key, value) in word_index.items()])\n",
        "\n",
        "def decode_sentence(text):\n",
        "    return ' '.join([reverse_word_index.get(i, '?') for i in text])\n",
        "\n",
        "print(decode_sentence(training_padded[0]))\n",
        "print(training_sentences[2])\n",
        "print(labels[2])"
      ],
      "execution_count": 13,
      "outputs": [
        {
          "output_type": "stream",
          "name": "stdout",
          "text": [
            "former <OOV> store clerk sues over secret 'black <OOV> for minority shoppers ? ? ? ? ? ? ? ? ? ? ? ? ? ? ? ? ? ? ? ? ? ? ? ? ? ? ? ? ? ? ? ? ? ? ? ? ? ? ? ? ? ? ? ? ? ? ? ? ? ? ? ? ? ? ? ? ? ? ? ? ? ? ? ? ? ? ? ? ? ? ? ? ? ? ? ? ? ? ? ? ? ? ? ? ? ? ? ?\n",
            "mom starting to fear son's web series closest thing she will have to grandchild\n",
            "1\n"
          ]
        }
      ]
    },
    {
      "cell_type": "markdown",
      "metadata": {
        "id": "voudDKaXL_3E"
      },
      "source": [
        "- decode_review(text): decoding하는 과정으로 인덱스의 맞는 단어들을 출력. 이때 ' '.join 함수로 단어 사이에 공백을 두고 출력하게 하고 모르는 단어(OOV)는 '?'를 통해 출력"
      ]
    },
    {
      "cell_type": "code",
      "metadata": {
        "id": "c9MqihtEkzQ9",
        "colab": {
          "base_uri": "https://localhost:8080/"
        },
        "outputId": "fea89194-954a-4c88-c23a-0765ed199606"
      },
      "source": [
        "e = model.layers[0]\n",
        "weights = e.get_weights()[0]\n",
        "print(weights.shape) # shape: (vocab_size, embedding_dim)\n"
      ],
      "execution_count": 14,
      "outputs": [
        {
          "output_type": "stream",
          "name": "stdout",
          "text": [
            "(10000, 16)\n"
          ]
        }
      ]
    },
    {
      "cell_type": "markdown",
      "metadata": {
        "id": "H8SM-OOXPysf"
      },
      "source": [
        "- embedding layer의 모습\n",
        "- 10,000개의 단어를 16차원의 벡터를 통해서 표현한 것을 확인 가능"
      ]
    },
    {
      "cell_type": "code",
      "metadata": {
        "id": "LoBXVffknldU"
      },
      "source": [
        "import io\n",
        "\n",
        "out_v = io.open('vecs.tsv', 'w', encoding='utf-8')\n",
        "out_m = io.open('meta.tsv', 'w', encoding='utf-8')\n",
        "for word_num in range(1, vocab_size):\n",
        "  word = reverse_word_index[word_num]\n",
        "  embeddings = weights[word_num]\n",
        "  out_m.write(word + \"\\n\")\n",
        "  out_v.write('\\t'.join([str(x) for x in embeddings]) + \"\\n\")\n",
        "out_v.close()\n",
        "out_m.close()"
      ],
      "execution_count": 15,
      "outputs": []
    },
    {
      "cell_type": "markdown",
      "metadata": {
        "id": "4WZS7d3aQAhz"
      },
      "source": [
        "- Visualization을 위해서 vector data와 meta data를 추출하는 모습\n",
        "- vecs.tsv: 각 단어에 할당된 16차원 벡터 데이터\n",
        "- meta.tsv: 각 단어의 토큰화된 모습이 아닌 진짜 모습"
      ]
    },
    {
      "cell_type": "code",
      "metadata": {
        "id": "U4eZ5HtVnnEE",
        "colab": {
          "base_uri": "https://localhost:8080/",
          "height": 17
        },
        "outputId": "c514dd35-0a62-4935-b5f6-89aac0aa4f95"
      },
      "source": [
        "try:\n",
        "  from google.colab import files\n",
        "except ImportError:\n",
        "  pass\n",
        "else:\n",
        "  files.download('vecs.tsv')\n",
        "  files.download('meta.tsv')"
      ],
      "execution_count": 16,
      "outputs": [
        {
          "output_type": "display_data",
          "data": {
            "application/javascript": [
              "\n",
              "    async function download(id, filename, size) {\n",
              "      if (!google.colab.kernel.accessAllowed) {\n",
              "        return;\n",
              "      }\n",
              "      const div = document.createElement('div');\n",
              "      const label = document.createElement('label');\n",
              "      label.textContent = `Downloading \"${filename}\": `;\n",
              "      div.appendChild(label);\n",
              "      const progress = document.createElement('progress');\n",
              "      progress.max = size;\n",
              "      div.appendChild(progress);\n",
              "      document.body.appendChild(div);\n",
              "\n",
              "      const buffers = [];\n",
              "      let downloaded = 0;\n",
              "\n",
              "      const channel = await google.colab.kernel.comms.open(id);\n",
              "      // Send a message to notify the kernel that we're ready.\n",
              "      channel.send({})\n",
              "\n",
              "      for await (const message of channel.messages) {\n",
              "        // Send a message to notify the kernel that we're ready.\n",
              "        channel.send({})\n",
              "        if (message.buffers) {\n",
              "          for (const buffer of message.buffers) {\n",
              "            buffers.push(buffer);\n",
              "            downloaded += buffer.byteLength;\n",
              "            progress.value = downloaded;\n",
              "          }\n",
              "        }\n",
              "      }\n",
              "      const blob = new Blob(buffers, {type: 'application/binary'});\n",
              "      const a = document.createElement('a');\n",
              "      a.href = window.URL.createObjectURL(blob);\n",
              "      a.download = filename;\n",
              "      div.appendChild(a);\n",
              "      a.click();\n",
              "      div.remove();\n",
              "    }\n",
              "  "
            ],
            "text/plain": [
              "<IPython.core.display.Javascript object>"
            ]
          },
          "metadata": {}
        },
        {
          "output_type": "display_data",
          "data": {
            "application/javascript": [
              "download(\"download_7fd7cd32-619c-47fb-862c-69f32640b363\", \"vecs.tsv\", 1811985)"
            ],
            "text/plain": [
              "<IPython.core.display.Javascript object>"
            ]
          },
          "metadata": {}
        },
        {
          "output_type": "display_data",
          "data": {
            "application/javascript": [
              "\n",
              "    async function download(id, filename, size) {\n",
              "      if (!google.colab.kernel.accessAllowed) {\n",
              "        return;\n",
              "      }\n",
              "      const div = document.createElement('div');\n",
              "      const label = document.createElement('label');\n",
              "      label.textContent = `Downloading \"${filename}\": `;\n",
              "      div.appendChild(label);\n",
              "      const progress = document.createElement('progress');\n",
              "      progress.max = size;\n",
              "      div.appendChild(progress);\n",
              "      document.body.appendChild(div);\n",
              "\n",
              "      const buffers = [];\n",
              "      let downloaded = 0;\n",
              "\n",
              "      const channel = await google.colab.kernel.comms.open(id);\n",
              "      // Send a message to notify the kernel that we're ready.\n",
              "      channel.send({})\n",
              "\n",
              "      for await (const message of channel.messages) {\n",
              "        // Send a message to notify the kernel that we're ready.\n",
              "        channel.send({})\n",
              "        if (message.buffers) {\n",
              "          for (const buffer of message.buffers) {\n",
              "            buffers.push(buffer);\n",
              "            downloaded += buffer.byteLength;\n",
              "            progress.value = downloaded;\n",
              "          }\n",
              "        }\n",
              "      }\n",
              "      const blob = new Blob(buffers, {type: 'application/binary'});\n",
              "      const a = document.createElement('a');\n",
              "      a.href = window.URL.createObjectURL(blob);\n",
              "      a.download = filename;\n",
              "      div.appendChild(a);\n",
              "      a.click();\n",
              "      div.remove();\n",
              "    }\n",
              "  "
            ],
            "text/plain": [
              "<IPython.core.display.Javascript object>"
            ]
          },
          "metadata": {}
        },
        {
          "output_type": "display_data",
          "data": {
            "application/javascript": [
              "download(\"download_36c70c9f-eadb-4d48-bb69-45b587598167\", \"meta.tsv\", 75974)"
            ],
            "text/plain": [
              "<IPython.core.display.Javascript object>"
            ]
          },
          "metadata": {}
        }
      ]
    },
    {
      "cell_type": "markdown",
      "metadata": {
        "id": "YcSo0W9eQZ3_"
      },
      "source": [
        "- vecs.tsv 파일과 meta.tsv 파일을 직접 다운로드하는 모습\n",
        "- [projector.tensorflow.org](https://projector.tensorflow.org)에서 데이터를 직접 넣어서 클러스터링 visualization 확인 가능"
      ]
    },
    {
      "cell_type": "code",
      "metadata": {
        "id": "cG8-ArY-qDcz",
        "colab": {
          "base_uri": "https://localhost:8080/"
        },
        "outputId": "0cb800cd-b241-49bb-cf2a-10dc7f5c81b8"
      },
      "source": [
        "sentence = [\"granny starting to fear spiders in the garden might be real\", \"game of thrones season finale showing this sunday night\"]\n",
        "sequences = tokenizer.texts_to_sequences(sentence)\n",
        "padded = pad_sequences(sequences, maxlen=max_length, padding=padding_type, truncating=trunc_type)\n",
        "print(model.predict(padded))"
      ],
      "execution_count": 17,
      "outputs": [
        {
          "output_type": "stream",
          "name": "stdout",
          "text": [
            "[[7.746504e-01]\n",
            " [6.056994e-06]]\n"
          ]
        }
      ]
    },
    {
      "cell_type": "markdown",
      "metadata": {
        "id": "AYc-NL6oGEHk"
      },
      "source": [
        "- 하나의 예문을 토큰을 이용해서 sequencing한 모습"
      ]
    }
  ]
}