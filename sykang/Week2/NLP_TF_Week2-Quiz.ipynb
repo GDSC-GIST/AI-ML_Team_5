{
 "cells": [
  {
   "cell_type": "markdown",
   "id": "0b071ad1",
   "metadata": {},
   "source": [
    "Natural Language Processing in Tensorflow\n",
    "---------------------------------------------------------------\n",
    "1. Sentiment in text\n",
    "1. **Word Embeddings**\n",
    "1. Sequence model\n",
    "1. Sequence models and literature"
   ]
  },
  {
   "cell_type": "markdown",
   "id": "bcfd2555",
   "metadata": {},
   "source": [
    "Week2 Quiz (받은 성적 100%)\n",
    "-----------------\n",
    "\n",
    "#### 1. What is the name of the TensorFlow library containing common data that you can use to train and test neural networks?\n",
    "- TensorFlow Data Libraries\n",
    "- TensorFlow Data\n",
    "- There is no library of common data sets, you have to use your own\n",
    "- **TensorFlow Datasets**"
   ]
  },
  {
   "cell_type": "markdown",
   "id": "41111efa",
   "metadata": {},
   "source": [
    "#### 2. How many reviews are there in the IMDB dataset and how are they split?\n",
    "- **50,000 records, 50/50 train//test split**\n",
    "- 60,000 records, 50/50 train//test split\n",
    "- 50,000 records, 80/20 train//test split\n",
    "- 60,000 records, 80/20 train//test split"
   ]
  },
  {
   "cell_type": "markdown",
   "id": "32a96789",
   "metadata": {},
   "source": [
    "#### 3. How are the labels for the IMDB dataset encoded?\n",
    "- Reviews encoded as a number 1-5\n",
    "- Reviews encoded as a number 1-10\n",
    "- Reviews encoded as a boolean true/false\n",
    "- **Reviews encoded as a number 0-1**"
   ]
  },
  {
   "cell_type": "markdown",
   "id": "6a1c6e06",
   "metadata": {},
   "source": [
    "#### 4. What is the purpose of the embedding dimension?\n",
    "- It is the number of dimensions required to encode every word in the corpus\n",
    "- It is the number of words to encode in the embedding\n",
    "- It is the number of letters in the word, denoting the size of the encoding\n",
    "- **It is the number of dimensions for the vector representing the word encoding**"
   ]
  },
  {
   "cell_type": "markdown",
   "id": "9e3a0643",
   "metadata": {},
   "source": [
    "#### 5. When tokenizing a corpus, what does the num_words=n parameter do?\n",
    "- It specifies the maximum number of words to be tokenized, and stops tokenizing when it reaches n\n",
    "- It specifies the maximum number of words to be tokenized, and picks the first 'n' words that were tokenized\n",
    "- **It specifies the maximum number of words to be tokenized, and picks the most common 'n' words**\n",
    "- It errors out if there are more than n distinct words in the corpus"
   ]
  },
  {
   "cell_type": "markdown",
   "id": "3e12f438",
   "metadata": {},
   "source": [
    "#### 6. To use word embeddings in TensorFlow, in a sequential layer, what is the name of the class?\n",
    "- tf.keras.layers.WordEmbedding\n",
    "- tf.keras.layers.Word2Vector\n",
    "- tf.keras.layers.Embed\n",
    "- **tf.keras.layers.Embedding**"
   ]
  },
  {
   "cell_type": "markdown",
   "id": "cbf36868",
   "metadata": {},
   "source": [
    "#### 7. IMDB Reviews are either positive or negative. What type of loss function should be used in this scenario?\n",
    "- Categorical crossentropy\n",
    "- Adam\n",
    "- **Binary crossentropy**\n",
    "- Binary Gradient descent"
   ]
  },
  {
   "cell_type": "markdown",
   "id": "3431159d",
   "metadata": {},
   "source": [
    "#### 8. When using IMDB Sub Words dataset, our results in classification were poor. Why?\n",
    "- We didn't train long enough\n",
    "- Our neural network didn't have enough layers\n",
    "- **Sequence becomes much more important when dealing with subwords, but we're ignoring word positions**\n",
    "- The sub words make no sense, so can't be classified"
   ]
  }
 ],
 "metadata": {
  "kernelspec": {
   "display_name": "Python 3",
   "language": "python",
   "name": "python3"
  },
  "language_info": {
   "codemirror_mode": {
    "name": "ipython",
    "version": 3
   },
   "file_extension": ".py",
   "mimetype": "text/x-python",
   "name": "python",
   "nbconvert_exporter": "python",
   "pygments_lexer": "ipython3",
   "version": "3.8.8"
  }
 },
 "nbformat": 4,
 "nbformat_minor": 5
}
